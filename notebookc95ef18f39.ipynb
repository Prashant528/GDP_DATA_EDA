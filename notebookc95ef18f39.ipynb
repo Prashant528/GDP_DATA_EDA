{
 "cells": [
  {
   "cell_type": "code",
   "execution_count": 1,
   "id": "78194419",
   "metadata": {
    "_cell_guid": "b1076dfc-b9ad-4769-8c92-a6c4dae69d19",
    "_uuid": "8f2839f25d086af736a60e9eeb907d3b93b6e0e5",
    "execution": {
     "iopub.execute_input": "2022-01-23T13:20:16.691282Z",
     "iopub.status.busy": "2022-01-23T13:20:16.690061Z",
     "iopub.status.idle": "2022-01-23T13:20:16.710698Z",
     "shell.execute_reply": "2022-01-23T13:20:16.709802Z",
     "shell.execute_reply.started": "2022-01-23T12:56:48.530446Z"
    },
    "papermill": {
     "duration": 0.043887,
     "end_time": "2022-01-23T13:20:16.710961",
     "exception": false,
     "start_time": "2022-01-23T13:20:16.667074",
     "status": "completed"
    },
    "tags": []
   },
   "outputs": [
    {
     "name": "stdout",
     "output_type": "stream",
     "text": [
      "/kaggle/input/gdp-of-all-countries19602020/gdp_1960_2020.csv\n"
     ]
    }
   ],
   "source": [
    "# This Python 3 environment comes with many helpful analytics libraries installed\n",
    "# It is defined by the kaggle/python Docker image: https://github.com/kaggle/docker-python\n",
    "# For example, here's several helpful packages to load\n",
    "\n",
    "import numpy as np # linear algebra\n",
    "import pandas as pd # data processing, CSV file I/O (e.g. pd.read_csv)\n",
    "\n",
    "# Input data files are available in the read-only \"../input/\" directory\n",
    "# For example, running this (by clicking run or pressing Shift+Enter) will list all files under the input directory\n",
    "\n",
    "import os\n",
    "for dirname, _, filenames in os.walk('/kaggle/input'):\n",
    "    for filename in filenames:\n",
    "        print(os.path.join(dirname, filename))\n",
    "\n",
    "# You can write up to 20GB to the current directory (/kaggle/working/) that gets preserved as output when you create a version using \"Save & Run All\" \n",
    "# You can also write temporary files to /kaggle/temp/, but they won't be saved outside of the current session"
   ]
  },
  {
   "cell_type": "markdown",
   "id": "3172aef0",
   "metadata": {
    "papermill": {
     "duration": 0.018232,
     "end_time": "2022-01-23T13:20:16.748132",
     "exception": false,
     "start_time": "2022-01-23T13:20:16.729900",
     "status": "completed"
    },
    "tags": []
   },
   "source": [
    " # 1. Reading the data"
   ]
  },
  {
   "cell_type": "code",
   "execution_count": 2,
   "id": "6a374b1e",
   "metadata": {
    "execution": {
     "iopub.execute_input": "2022-01-23T13:20:16.792267Z",
     "iopub.status.busy": "2022-01-23T13:20:16.791429Z",
     "iopub.status.idle": "2022-01-23T13:20:16.851417Z",
     "shell.execute_reply": "2022-01-23T13:20:16.851947Z",
     "shell.execute_reply.started": "2022-01-23T13:08:57.630726Z"
    },
    "papermill": {
     "duration": 0.085244,
     "end_time": "2022-01-23T13:20:16.852151",
     "exception": false,
     "start_time": "2022-01-23T13:20:16.766907",
     "status": "completed"
    },
    "tags": []
   },
   "outputs": [
    {
     "data": {
      "text/html": [
       "<div>\n",
       "<style scoped>\n",
       "    .dataframe tbody tr th:only-of-type {\n",
       "        vertical-align: middle;\n",
       "    }\n",
       "\n",
       "    .dataframe tbody tr th {\n",
       "        vertical-align: top;\n",
       "    }\n",
       "\n",
       "    .dataframe thead th {\n",
       "        text-align: right;\n",
       "    }\n",
       "</style>\n",
       "<table border=\"1\" class=\"dataframe\">\n",
       "  <thead>\n",
       "    <tr style=\"text-align: right;\">\n",
       "      <th></th>\n",
       "      <th>year</th>\n",
       "      <th>rank</th>\n",
       "      <th>country</th>\n",
       "      <th>state</th>\n",
       "      <th>gdp</th>\n",
       "      <th>gdp_percent</th>\n",
       "    </tr>\n",
       "  </thead>\n",
       "  <tbody>\n",
       "    <tr>\n",
       "      <th>0</th>\n",
       "      <td>1960</td>\n",
       "      <td>1</td>\n",
       "      <td>the United States</td>\n",
       "      <td>America</td>\n",
       "      <td>543300000000</td>\n",
       "      <td>0.468483</td>\n",
       "    </tr>\n",
       "    <tr>\n",
       "      <th>1</th>\n",
       "      <td>1960</td>\n",
       "      <td>2</td>\n",
       "      <td>United Kingdom</td>\n",
       "      <td>Europe</td>\n",
       "      <td>73233967692</td>\n",
       "      <td>0.063149</td>\n",
       "    </tr>\n",
       "    <tr>\n",
       "      <th>2</th>\n",
       "      <td>1960</td>\n",
       "      <td>3</td>\n",
       "      <td>France</td>\n",
       "      <td>Europe</td>\n",
       "      <td>62225478000</td>\n",
       "      <td>0.053656</td>\n",
       "    </tr>\n",
       "    <tr>\n",
       "      <th>3</th>\n",
       "      <td>1960</td>\n",
       "      <td>4</td>\n",
       "      <td>China</td>\n",
       "      <td>Asia</td>\n",
       "      <td>59716467625</td>\n",
       "      <td>0.051493</td>\n",
       "    </tr>\n",
       "    <tr>\n",
       "      <th>4</th>\n",
       "      <td>1960</td>\n",
       "      <td>5</td>\n",
       "      <td>Japan</td>\n",
       "      <td>Asia</td>\n",
       "      <td>44307342950</td>\n",
       "      <td>0.038206</td>\n",
       "    </tr>\n",
       "    <tr>\n",
       "      <th>5</th>\n",
       "      <td>1960</td>\n",
       "      <td>6</td>\n",
       "      <td>Canada</td>\n",
       "      <td>America</td>\n",
       "      <td>40461721692</td>\n",
       "      <td>0.034890</td>\n",
       "    </tr>\n",
       "    <tr>\n",
       "      <th>6</th>\n",
       "      <td>1960</td>\n",
       "      <td>7</td>\n",
       "      <td>Italy</td>\n",
       "      <td>Europe</td>\n",
       "      <td>40385288344</td>\n",
       "      <td>0.034824</td>\n",
       "    </tr>\n",
       "    <tr>\n",
       "      <th>7</th>\n",
       "      <td>1960</td>\n",
       "      <td>8</td>\n",
       "      <td>India</td>\n",
       "      <td>Asia</td>\n",
       "      <td>37029883875</td>\n",
       "      <td>0.031931</td>\n",
       "    </tr>\n",
       "    <tr>\n",
       "      <th>8</th>\n",
       "      <td>1960</td>\n",
       "      <td>9</td>\n",
       "      <td>Australia</td>\n",
       "      <td>Oceania</td>\n",
       "      <td>18577668271</td>\n",
       "      <td>0.016019</td>\n",
       "    </tr>\n",
       "    <tr>\n",
       "      <th>9</th>\n",
       "      <td>1960</td>\n",
       "      <td>10</td>\n",
       "      <td>Sweden</td>\n",
       "      <td>Europe</td>\n",
       "      <td>15822585033</td>\n",
       "      <td>0.013644</td>\n",
       "    </tr>\n",
       "  </tbody>\n",
       "</table>\n",
       "</div>"
      ],
      "text/plain": [
       "   year  rank            country    state           gdp  gdp_percent\n",
       "0  1960     1  the United States  America  543300000000     0.468483\n",
       "1  1960     2     United Kingdom   Europe   73233967692     0.063149\n",
       "2  1960     3             France   Europe   62225478000     0.053656\n",
       "3  1960     4              China     Asia   59716467625     0.051493\n",
       "4  1960     5              Japan     Asia   44307342950     0.038206\n",
       "5  1960     6             Canada  America   40461721692     0.034890\n",
       "6  1960     7              Italy   Europe   40385288344     0.034824\n",
       "7  1960     8              India     Asia   37029883875     0.031931\n",
       "8  1960     9          Australia  Oceania   18577668271     0.016019\n",
       "9  1960    10             Sweden   Europe   15822585033     0.013644"
      ]
     },
     "execution_count": 2,
     "metadata": {},
     "output_type": "execute_result"
    }
   ],
   "source": [
    "all_gdp_df = pd.read_csv(\"/kaggle/input/gdp-of-all-countries19602020/gdp_1960_2020.csv\");\n",
    "all_gdp_df[:10]"
   ]
  },
  {
   "cell_type": "markdown",
   "id": "d1620ad2",
   "metadata": {
    "papermill": {
     "duration": 0.018517,
     "end_time": "2022-01-23T13:20:16.889306",
     "exception": false,
     "start_time": "2022-01-23T13:20:16.870789",
     "status": "completed"
    },
    "tags": []
   },
   "source": [
    " # 2. **Checking the consistency of country over years.**"
   ]
  },
  {
   "cell_type": "code",
   "execution_count": 3,
   "id": "0b6c325d",
   "metadata": {
    "execution": {
     "iopub.execute_input": "2022-01-23T13:20:16.930092Z",
     "iopub.status.busy": "2022-01-23T13:20:16.929368Z",
     "iopub.status.idle": "2022-01-23T13:20:16.946931Z",
     "shell.execute_reply": "2022-01-23T13:20:16.947424Z",
     "shell.execute_reply.started": "2022-01-23T12:56:48.579731Z"
    },
    "papermill": {
     "duration": 0.039987,
     "end_time": "2022-01-23T13:20:16.947688",
     "exception": false,
     "start_time": "2022-01-23T13:20:16.907701",
     "status": "completed"
    },
    "tags": []
   },
   "outputs": [
    {
     "name": "stdout",
     "output_type": "stream",
     "text": [
      "year\n",
      "1960    103\n",
      "1961    103\n",
      "1962    105\n",
      "1963    105\n",
      "1964    105\n",
      "       ... \n",
      "2016    205\n",
      "2017    204\n",
      "2018    204\n",
      "2019    199\n",
      "2020    175\n",
      "Name: gdp, Length: 61, dtype: int64\n",
      "103\n"
     ]
    }
   ],
   "source": [
    "count_in_each_year = pd.Series(all_gdp_df.groupby('year')['gdp'].count())\n",
    "print(count_in_each_year)\n",
    "# so the number of countries in each year is inconsistent.\n",
    "print(count_in_each_year.min())\n"
   ]
  },
  {
   "cell_type": "markdown",
   "id": "b67904ec",
   "metadata": {
    "papermill": {
     "duration": 0.018277,
     "end_time": "2022-01-23T13:20:16.984842",
     "exception": false,
     "start_time": "2022-01-23T13:20:16.966565",
     "status": "completed"
    },
    "tags": []
   },
   "source": [
    "# Years with minimum number of countries."
   ]
  },
  {
   "cell_type": "code",
   "execution_count": 4,
   "id": "a265d6e8",
   "metadata": {
    "execution": {
     "iopub.execute_input": "2022-01-23T13:20:17.030792Z",
     "iopub.status.busy": "2022-01-23T13:20:17.030085Z",
     "iopub.status.idle": "2022-01-23T13:20:17.032797Z",
     "shell.execute_reply": "2022-01-23T13:20:17.033301Z",
     "shell.execute_reply.started": "2022-01-23T12:56:48.595047Z"
    },
    "papermill": {
     "duration": 0.029923,
     "end_time": "2022-01-23T13:20:17.033536",
     "exception": false,
     "start_time": "2022-01-23T13:20:17.003613",
     "status": "completed"
    },
    "tags": []
   },
   "outputs": [
    {
     "name": "stdout",
     "output_type": "stream",
     "text": [
      "year\n",
      "1960    103.0\n",
      "1961    103.0\n",
      "Name: gdp, dtype: float64\n"
     ]
    }
   ],
   "source": [
    "#where gives Nan in the places where the conditions don't match. So, we use dropna().\n",
    "print(count_in_each_year.where(count_in_each_year==103).dropna())"
   ]
  },
  {
   "cell_type": "markdown",
   "id": "64b62728",
   "metadata": {
    "papermill": {
     "duration": 0.019699,
     "end_time": "2022-01-23T13:20:17.072652",
     "exception": false,
     "start_time": "2022-01-23T13:20:17.052953",
     "status": "completed"
    },
    "tags": []
   },
   "source": [
    "**Checking if these two years have same countries.**"
   ]
  },
  {
   "cell_type": "code",
   "execution_count": 5,
   "id": "3c94f1ba",
   "metadata": {
    "execution": {
     "iopub.execute_input": "2022-01-23T13:20:17.119995Z",
     "iopub.status.busy": "2022-01-23T13:20:17.119078Z",
     "iopub.status.idle": "2022-01-23T13:20:17.148882Z",
     "shell.execute_reply": "2022-01-23T13:20:17.148250Z",
     "shell.execute_reply.started": "2022-01-23T12:56:48.612032Z"
    },
    "papermill": {
     "duration": 0.056394,
     "end_time": "2022-01-23T13:20:17.149044",
     "exception": false,
     "start_time": "2022-01-23T13:20:17.092650",
     "status": "completed"
    },
    "tags": []
   },
   "outputs": [
    {
     "name": "stdout",
     "output_type": "stream",
     "text": [
      "103                   the United States\n",
      "104                      United Kingdom\n",
      "105                              France\n",
      "106                               Japan\n",
      "107                               China\n",
      "                     ...               \n",
      "201                            Botswana\n",
      "202                              Belize\n",
      "203    Saint Vincent and the Grenadines\n",
      "204               Saint Kitts and Nevis\n",
      "205                          Seychelles\n",
      "Name: country, Length: 103, dtype: object\n"
     ]
    }
   ],
   "source": [
    "filter1 = all_gdp_df['year']==1960\n",
    "nations_1960 = pd.Series(all_gdp_df.where(filter1).dropna()['country'])\n",
    "filter2 = all_gdp_df['year']==1961\n",
    "nations_1961 = pd.Series(all_gdp_df.where(filter2).dropna()['country'])\n",
    "print(nations_1961)\n",
    "#the new series for 1961 is being indexed starting from 103. Need to reset it."
   ]
  },
  {
   "cell_type": "markdown",
   "id": "31e8c07d",
   "metadata": {
    "papermill": {
     "duration": 0.020481,
     "end_time": "2022-01-23T13:20:17.190572",
     "exception": false,
     "start_time": "2022-01-23T13:20:17.170091",
     "status": "completed"
    },
    "tags": []
   },
   "source": [
    "**Check for similarity**"
   ]
  },
  {
   "cell_type": "code",
   "execution_count": 6,
   "id": "78dcbaf5",
   "metadata": {
    "execution": {
     "iopub.execute_input": "2022-01-23T13:20:17.248934Z",
     "iopub.status.busy": "2022-01-23T13:20:17.248184Z",
     "iopub.status.idle": "2022-01-23T13:20:17.252549Z",
     "shell.execute_reply": "2022-01-23T13:20:17.251981Z",
     "shell.execute_reply.started": "2022-01-23T12:56:48.645681Z"
    },
    "papermill": {
     "duration": 0.042222,
     "end_time": "2022-01-23T13:20:17.252709",
     "exception": false,
     "start_time": "2022-01-23T13:20:17.210487",
     "status": "completed"
    },
    "tags": []
   },
   "outputs": [
    {
     "data": {
      "text/html": [
       "<div>\n",
       "<style scoped>\n",
       "    .dataframe tbody tr th:only-of-type {\n",
       "        vertical-align: middle;\n",
       "    }\n",
       "\n",
       "    .dataframe tbody tr th {\n",
       "        vertical-align: top;\n",
       "    }\n",
       "\n",
       "    .dataframe thead th {\n",
       "        text-align: right;\n",
       "    }\n",
       "</style>\n",
       "<table border=\"1\" class=\"dataframe\">\n",
       "  <thead>\n",
       "    <tr style=\"text-align: right;\">\n",
       "      <th></th>\n",
       "      <th>self</th>\n",
       "      <th>other</th>\n",
       "    </tr>\n",
       "  </thead>\n",
       "  <tbody>\n",
       "  </tbody>\n",
       "</table>\n",
       "</div>"
      ],
      "text/plain": [
       "Empty DataFrame\n",
       "Columns: [self, other]\n",
       "Index: []"
      ]
     },
     "execution_count": 6,
     "metadata": {},
     "output_type": "execute_result"
    }
   ],
   "source": [
    "#resetting the index of 1961 series.\n",
    "nations_1961 = nations_1961.reset_index(drop = True)\n",
    "nations_1960.compare(nations_1961)\n",
    "#need to sort the country names\n",
    "nations_1960_sorted = pd.Series(nations_1960.sort_values(ignore_index=True))\n",
    "nations_1961_sorted = pd.Series(nations_1961.sort_values(ignore_index=True))\n",
    "nations_1960_sorted.compare(nations_1961_sorted)\n",
    "#so the countries in 1960 and 1961 are all same. "
   ]
  },
  {
   "cell_type": "markdown",
   "id": "3de56b15",
   "metadata": {
    "papermill": {
     "duration": 0.019642,
     "end_time": "2022-01-23T13:20:17.292723",
     "exception": false,
     "start_time": "2022-01-23T13:20:17.273081",
     "status": "completed"
    },
    "tags": []
   },
   "source": [
    "**For data consistency, I'll try to take these 103 countries only in other years too.**"
   ]
  },
  {
   "cell_type": "code",
   "execution_count": 7,
   "id": "426595c6",
   "metadata": {
    "execution": {
     "iopub.execute_input": "2022-01-23T13:20:17.344693Z",
     "iopub.status.busy": "2022-01-23T13:20:17.343047Z",
     "iopub.status.idle": "2022-01-23T13:20:17.400905Z",
     "shell.execute_reply": "2022-01-23T13:20:17.400085Z",
     "shell.execute_reply.started": "2022-01-23T12:56:48.664313Z"
    },
    "papermill": {
     "duration": 0.088387,
     "end_time": "2022-01-23T13:20:17.401078",
     "exception": false,
     "start_time": "2022-01-23T13:20:17.312691",
     "status": "completed"
    },
    "tags": []
   },
   "outputs": [
    {
     "data": {
      "text/plain": [
       "year           206\n",
       "rank           206\n",
       "country        206\n",
       "state          206\n",
       "gdp            206\n",
       "gdp_percent    206\n",
       "dtype: int64"
      ]
     },
     "execution_count": 7,
     "metadata": {},
     "output_type": "execute_result"
    }
   ],
   "source": [
    "\n",
    "#checking merging (join) query for two years.\n",
    "#using astype(object) because where() upcasted the gdp to float representation(precision got lost).\n",
    "nations_1965 = pd.DataFrame(all_gdp_df.where(all_gdp_df.year==1980).astype('O').dropna()[\"country\"])\n",
    "nations_1960 = all_gdp_df.where(all_gdp_df.year==1960).astype('O').dropna()\n",
    "merged = pd.merge(nations_1965, nations_1960, on=['country'], how='inner')\n",
    "\n",
    "test_joined = nations_1960.join(nations_1965.set_index('country'), how='inner',lsuffix=\"_x\", on='country')\n",
    "test_filtered =  test_joined[['year', 'rank', 'country', 'state', 'gdp', 'gdp_percent']].copy()\n",
    "test_summed = nations_1960.append(test_filtered)\n",
    "test_summed.count()\n"
   ]
  },
  {
   "cell_type": "markdown",
   "id": "59f1018d",
   "metadata": {
    "papermill": {
     "duration": 0.020462,
     "end_time": "2022-01-23T13:20:17.441855",
     "exception": false,
     "start_time": "2022-01-23T13:20:17.421393",
     "status": "completed"
    },
    "tags": []
   },
   "source": [
    "**It turns out the number of common countries is even less than 103. So, Getting the common set of countries in all years.**"
   ]
  },
  {
   "cell_type": "code",
   "execution_count": 8,
   "id": "77e26117",
   "metadata": {
    "execution": {
     "iopub.execute_input": "2022-01-23T13:20:17.493879Z",
     "iopub.status.busy": "2022-01-23T13:20:17.493117Z",
     "iopub.status.idle": "2022-01-23T13:20:18.409875Z",
     "shell.execute_reply": "2022-01-23T13:20:18.410429Z",
     "shell.execute_reply.started": "2022-01-23T12:56:48.721632Z"
    },
    "papermill": {
     "duration": 0.948095,
     "end_time": "2022-01-23T13:20:18.410683",
     "exception": false,
     "start_time": "2022-01-23T13:20:17.462588",
     "status": "completed"
    },
    "tags": []
   },
   "outputs": [
    {
     "name": "stdout",
     "output_type": "stream",
     "text": [
      "count in year:  1960  =  103\n",
      "count in year:  1961  =  103\n",
      "count in year:  1962  =  103\n",
      "count in year:  1963  =  103\n",
      "count in year:  1964  =  103\n",
      "count in year:  1965  =  102\n",
      "count in year:  1966  =  102\n",
      "count in year:  1967  =  102\n",
      "count in year:  1968  =  102\n",
      "count in year:  1969  =  102\n",
      "count in year:  1970  =  102\n",
      "count in year:  1971  =  102\n",
      "count in year:  1972  =  102\n",
      "count in year:  1973  =  102\n",
      "count in year:  1974  =  102\n",
      "count in year:  1975  =  101\n",
      "count in year:  1976  =  101\n",
      "count in year:  1977  =  101\n",
      "count in year:  1978  =  101\n",
      "count in year:  1979  =  101\n",
      "count in year:  1980  =  101\n",
      "count in year:  1981  =  101\n",
      "count in year:  1982  =  100\n",
      "count in year:  1983  =  100\n",
      "count in year:  1984  =  100\n",
      "count in year:  1985  =  100\n",
      "count in year:  1986  =  100\n",
      "count in year:  1987  =  100\n",
      "count in year:  1988  =  100\n",
      "count in year:  1989  =  100\n",
      "count in year:  1990  =  100\n",
      "count in year:  1991  =  98\n",
      "count in year:  1992  =  98\n",
      "count in year:  1993  =  98\n",
      "count in year:  1994  =  98\n",
      "count in year:  1995  =  98\n",
      "count in year:  1996  =  98\n",
      "count in year:  1997  =  98\n",
      "count in year:  1998  =  98\n",
      "count in year:  1999  =  98\n",
      "count in year:  2000  =  98\n",
      "count in year:  2001  =  98\n",
      "count in year:  2002  =  98\n",
      "count in year:  2003  =  98\n",
      "count in year:  2004  =  98\n",
      "count in year:  2005  =  98\n",
      "count in year:  2006  =  98\n",
      "count in year:  2007  =  98\n",
      "count in year:  2008  =  97\n",
      "count in year:  2009  =  97\n",
      "count in year:  2010  =  97\n",
      "count in year:  2011  =  97\n",
      "count in year:  2012  =  97\n",
      "count in year:  2013  =  97\n",
      "count in year:  2014  =  97\n",
      "count in year:  2015  =  96\n",
      "count in year:  2016  =  96\n",
      "count in year:  2017  =  96\n",
      "count in year:  2018  =  96\n",
      "count in year:  2019  =  96\n",
      "count in year:  2020  =  94\n"
     ]
    }
   ],
   "source": [
    "filtered_countries = pd.DataFrame(all_gdp_df.where(all_gdp_df.year==1960).dropna()[\"country\"])\n",
    "#initializing empty df for storing all year's filtered dfs.\n",
    "common_countries = pd.DataFrame(columns=['country'])\n",
    "for year, count in count_in_each_year.items():\n",
    "    #get the dfs for each year\n",
    "    countries_in_year = pd.DataFrame(all_gdp_df.where(all_gdp_df.year==year).dropna()[\"country\"])\n",
    "    #deduplicating the countries in each year.\n",
    "    countries_in_year.drop_duplicates(subset=['country'], inplace=True)\n",
    "    #join the dfs with 1960 year by ''country''\n",
    "    right_suffix = '_'+ str(year)\n",
    "    joined = countries_in_year.join(filtered_countries.set_index('country'), rsuffix=right_suffix, on='country', how='inner')\n",
    "    #join returns columns of both left and right tables, so copying only the left columns.\n",
    "    filtered_countries =  joined[['country']].copy()\n",
    "    print('count in year: ', year, ' = ',filtered_countries['country'].count() )\n"
   ]
  },
  {
   "cell_type": "code",
   "execution_count": 9,
   "id": "d55d8dac",
   "metadata": {
    "execution": {
     "iopub.execute_input": "2022-01-23T13:20:18.463119Z",
     "iopub.status.busy": "2022-01-23T13:20:18.462098Z",
     "iopub.status.idle": "2022-01-23T13:20:18.465986Z",
     "shell.execute_reply": "2022-01-23T13:20:18.466913Z",
     "shell.execute_reply.started": "2022-01-23T13:08:13.017243Z"
    },
    "papermill": {
     "duration": 0.034658,
     "end_time": "2022-01-23T13:20:18.467250",
     "exception": false,
     "start_time": "2022-01-23T13:20:18.432592",
     "status": "completed"
    },
    "tags": []
   },
   "outputs": [
    {
     "name": "stdout",
     "output_type": "stream",
     "text": [
      "country    94\n",
      "dtype: int64\n"
     ]
    }
   ],
   "source": [
    "print(filtered_countries.count())\n",
    "# gives 94 . so we have 94 countries which are available in all years!\n"
   ]
  },
  {
   "cell_type": "markdown",
   "id": "69f1f75a",
   "metadata": {
    "papermill": {
     "duration": 0.023368,
     "end_time": "2022-01-23T13:20:18.514749",
     "exception": false,
     "start_time": "2022-01-23T13:20:18.491381",
     "status": "completed"
    },
    "tags": []
   },
   "source": [
    "**Constructing a new dataframe using this list of countries and joining them with dfs of each country.**"
   ]
  },
  {
   "cell_type": "code",
   "execution_count": 10,
   "id": "327eb8f9",
   "metadata": {
    "execution": {
     "iopub.execute_input": "2022-01-23T13:20:18.573647Z",
     "iopub.status.busy": "2022-01-23T13:20:18.572464Z",
     "iopub.status.idle": "2022-01-23T13:20:19.604484Z",
     "shell.execute_reply": "2022-01-23T13:20:19.605097Z",
     "shell.execute_reply.started": "2022-01-23T12:56:49.593941Z"
    },
    "papermill": {
     "duration": 1.068664,
     "end_time": "2022-01-23T13:20:19.605304",
     "exception": false,
     "start_time": "2022-01-23T13:20:18.536640",
     "status": "completed"
    },
    "tags": []
   },
   "outputs": [
    {
     "name": "stdout",
     "output_type": "stream",
     "text": [
      "count in year:  1960  =  1.0\n",
      "count in year:  1961  =  2.0\n",
      "count in year:  1962  =  3.0\n",
      "count in year:  1963  =  4.0\n",
      "count in year:  1964  =  5.0\n",
      "count in year:  1965  =  6.0\n",
      "count in year:  1966  =  7.0\n",
      "count in year:  1967  =  8.0\n",
      "count in year:  1968  =  9.0\n",
      "count in year:  1969  =  10.0\n",
      "count in year:  1970  =  11.0\n",
      "count in year:  1971  =  12.0\n",
      "count in year:  1972  =  13.0\n",
      "count in year:  1973  =  14.0\n",
      "count in year:  1974  =  15.0\n",
      "count in year:  1975  =  16.0\n",
      "count in year:  1976  =  17.0\n",
      "count in year:  1977  =  18.0\n",
      "count in year:  1978  =  19.0\n",
      "count in year:  1979  =  20.0\n",
      "count in year:  1980  =  21.0\n",
      "count in year:  1981  =  22.0\n",
      "count in year:  1982  =  23.0\n",
      "count in year:  1983  =  24.0\n",
      "count in year:  1984  =  25.0\n",
      "count in year:  1985  =  26.0\n",
      "count in year:  1986  =  27.0\n",
      "count in year:  1987  =  28.0\n",
      "count in year:  1988  =  29.0\n",
      "count in year:  1989  =  30.0\n",
      "count in year:  1990  =  31.0\n",
      "count in year:  1991  =  32.0\n",
      "count in year:  1992  =  33.0\n",
      "count in year:  1993  =  34.0\n",
      "count in year:  1994  =  35.0\n",
      "count in year:  1995  =  36.0\n",
      "count in year:  1996  =  37.0\n",
      "count in year:  1997  =  38.0\n",
      "count in year:  1998  =  39.0\n",
      "count in year:  1999  =  40.0\n",
      "count in year:  2000  =  41.0\n",
      "count in year:  2001  =  42.0\n",
      "count in year:  2002  =  43.0\n",
      "count in year:  2003  =  44.0\n",
      "count in year:  2004  =  45.0\n",
      "count in year:  2005  =  46.0\n",
      "count in year:  2006  =  47.0\n",
      "count in year:  2007  =  48.0\n",
      "count in year:  2008  =  49.0\n",
      "count in year:  2009  =  50.0\n",
      "count in year:  2010  =  51.0\n",
      "count in year:  2011  =  52.0\n",
      "count in year:  2012  =  53.0\n",
      "count in year:  2013  =  54.0\n",
      "count in year:  2014  =  55.0\n",
      "count in year:  2015  =  56.0\n",
      "count in year:  2016  =  57.0\n",
      "count in year:  2017  =  58.0\n",
      "count in year:  2018  =  59.0\n",
      "count in year:  2019  =  60.0\n",
      "count in year:  2020  =  61.0\n"
     ]
    }
   ],
   "source": [
    "#initializing empty df for storing all year's filtered dfs.\n",
    "filtered_all_gdp_df = pd.DataFrame(columns=['year', 'rank', 'country', 'state', 'gdp', 'gdp_percent'])\n",
    "for year, count in count_in_each_year.items():\n",
    "    #get the dfs for each year\n",
    "    df_for_year = all_gdp_df.where(all_gdp_df.year==year).dropna()\n",
    "    #deduplicating the countries in each year's df.\n",
    "    df_for_year.drop_duplicates(subset=['country'], inplace=True)\n",
    "    #join the dfs with filtered_countries year by ''country''\n",
    "    joined = df_for_year.join(filtered_countries.set_index('country'), rsuffix='_1960', on='country', how='inner')\n",
    "    #join returns columns of both left and right tables, so copying only the left columns.\n",
    "    filtered_df_for_year =  joined[['year', 'rank', 'country', 'state', 'gdp', 'gdp_percent']].copy()\n",
    "    #appending dfs of each year to our initial empty df.\n",
    "    filtered_all_gdp_df = filtered_all_gdp_df.append(filtered_df_for_year)\n",
    "    print('count in year: ', year, ' = ',filtered_all_gdp_df['year'].count()/94)\n",
    "\n",
    "    #AND FINALLY THE COUNTRIES IN EACH YEAR ARE CONSISTENT."
   ]
  },
  {
   "cell_type": "code",
   "execution_count": 11,
   "id": "d0193d49",
   "metadata": {
    "execution": {
     "iopub.execute_input": "2022-01-23T13:20:19.664147Z",
     "iopub.status.busy": "2022-01-23T13:20:19.660042Z",
     "iopub.status.idle": "2022-01-23T13:20:19.685880Z",
     "shell.execute_reply": "2022-01-23T13:20:19.686427Z",
     "shell.execute_reply.started": "2022-01-23T12:56:50.537132Z"
    },
    "papermill": {
     "duration": 0.055488,
     "end_time": "2022-01-23T13:20:19.686650",
     "exception": false,
     "start_time": "2022-01-23T13:20:19.631162",
     "status": "completed"
    },
    "tags": []
   },
   "outputs": [
    {
     "data": {
      "text/html": [
       "<div>\n",
       "<style scoped>\n",
       "    .dataframe tbody tr th:only-of-type {\n",
       "        vertical-align: middle;\n",
       "    }\n",
       "\n",
       "    .dataframe tbody tr th {\n",
       "        vertical-align: top;\n",
       "    }\n",
       "\n",
       "    .dataframe thead th {\n",
       "        text-align: right;\n",
       "    }\n",
       "</style>\n",
       "<table border=\"1\" class=\"dataframe\">\n",
       "  <thead>\n",
       "    <tr style=\"text-align: right;\">\n",
       "      <th></th>\n",
       "      <th>year</th>\n",
       "      <th>rank</th>\n",
       "      <th>country</th>\n",
       "      <th>state</th>\n",
       "      <th>gdp</th>\n",
       "      <th>gdp_percent</th>\n",
       "    </tr>\n",
       "  </thead>\n",
       "  <tbody>\n",
       "  </tbody>\n",
       "</table>\n",
       "</div>"
      ],
      "text/plain": [
       "Empty DataFrame\n",
       "Columns: [year, rank, country, state, gdp, gdp_percent]\n",
       "Index: []"
      ]
     },
     "execution_count": 11,
     "metadata": {},
     "output_type": "execute_result"
    }
   ],
   "source": [
    "#just checking if Nepal is included in these 103 countries.\n",
    "filtered_all_gdp_df.where(nations_1960_sorted==\"Nepal\").dropna()\n",
    "#sadly we lost Nepal on the way. The data for Nepal is missing in some years."
   ]
  },
  {
   "cell_type": "markdown",
   "id": "43dcc74f",
   "metadata": {
    "papermill": {
     "duration": 0.025376,
     "end_time": "2022-01-23T13:20:19.737663",
     "exception": false,
     "start_time": "2022-01-23T13:20:19.712287",
     "status": "completed"
    },
    "tags": []
   },
   "source": [
    "# 3. Visualization"
   ]
  },
  {
   "cell_type": "markdown",
   "id": "10edf167",
   "metadata": {
    "papermill": {
     "duration": 0.025236,
     "end_time": "2022-01-23T13:20:19.788712",
     "exception": false,
     "start_time": "2022-01-23T13:20:19.763476",
     "status": "completed"
    },
    "tags": []
   },
   "source": [
    "**A. Total GDP of all countries over the years**"
   ]
  },
  {
   "cell_type": "code",
   "execution_count": 12,
   "id": "0d0e39d8",
   "metadata": {
    "execution": {
     "iopub.execute_input": "2022-01-23T13:20:19.851105Z",
     "iopub.status.busy": "2022-01-23T13:20:19.849278Z",
     "iopub.status.idle": "2022-01-23T13:20:20.170915Z",
     "shell.execute_reply": "2022-01-23T13:20:20.171487Z",
     "shell.execute_reply.started": "2022-01-23T12:56:50.563749Z"
    },
    "papermill": {
     "duration": 0.357317,
     "end_time": "2022-01-23T13:20:20.171687",
     "exception": false,
     "start_time": "2022-01-23T13:20:19.814370",
     "status": "completed"
    },
    "tags": []
   },
   "outputs": [
    {
     "data": {
      "text/plain": [
       "[<matplotlib.lines.Line2D at 0x7f6474f480d0>]"
      ]
     },
     "execution_count": 12,
     "metadata": {},
     "output_type": "execute_result"
    },
    {
     "data": {
      "image/png": "[encoded data removed]",
      "text/plain": [
       "<Figure size 1080x360 with 1 Axes>"
      ]
     },
     "metadata": {
      "needs_background": "light"
     },
     "output_type": "display_data"
    }
   ],
   "source": [
    "from matplotlib import pyplot as plt\n",
    "\n",
    "years = pd.Series(count_in_each_year.index)\n",
    "total_gdp_per_yr = pd.Series(filtered_all_gdp_df.groupby('year')['gdp'].sum())\n",
    "plt.figure(figsize=(15,5))\n",
    "plt.title(\"Total GDP of all countries over the years\")\n",
    "plt.xlabel(\"YEARS\")\n",
    "plt.ylabel(\"TOTAL GDP\")\n",
    "#changing the scale of x-axis to 5 years range.\n",
    "plt.xticks(range(min(years), max(years)+1, 5))\n",
    "plt.plot(years, total_gdp_per_yr)"
   ]
  },
  {
   "cell_type": "markdown",
   "id": "61aca6f4",
   "metadata": {
    "papermill": {
     "duration": 0.026851,
     "end_time": "2022-01-23T13:20:20.226981",
     "exception": false,
     "start_time": "2022-01-23T13:20:20.200130",
     "status": "completed"
    },
    "tags": []
   },
   "source": [
    "**B. Top ten countries in 2020**"
   ]
  },
  {
   "cell_type": "code",
   "execution_count": 13,
   "id": "b4afcd7f",
   "metadata": {
    "execution": {
     "iopub.execute_input": "2022-01-23T13:20:20.284686Z",
     "iopub.status.busy": "2022-01-23T13:20:20.283952Z",
     "iopub.status.idle": "2022-01-23T13:20:20.722944Z",
     "shell.execute_reply": "2022-01-23T13:20:20.722322Z",
     "shell.execute_reply.started": "2022-01-23T13:19:04.836423Z"
    },
    "papermill": {
     "duration": 0.469224,
     "end_time": "2022-01-23T13:20:20.723105",
     "exception": false,
     "start_time": "2022-01-23T13:20:20.253881",
     "status": "completed"
    },
    "tags": []
   },
   "outputs": [
    {
     "data": {
      "text/plain": [
       "<BarContainer object of 10 artists>"
      ]
     },
     "execution_count": 13,
     "metadata": {},
     "output_type": "execute_result"
    },
    {
     "data": {
      "image/png": "[encoded data removed]",
      "text/plain": [
       "<Figure size 1080x360 with 1 Axes>"
      ]
     },
     "metadata": {
      "needs_background": "light"
     },
     "output_type": "display_data"
    }
   ],
   "source": [
    "top_5_df = filtered_all_gdp_df.where(filtered_all_gdp_df.year==2020).dropna().head(10)\n",
    "#no need to sort as the dataframe is already sorted by rank.\n",
    "# print(top_5_df)\n",
    "#plotting bar plot\n",
    "country = top_5_df.loc[:, 'country']\n",
    "gdp = top_5_df.loc[:, 'gdp']\n",
    "plt.figure(figsize=(15,5))\n",
    "plt.title(\"GDP of top 10 countries in 2020\")\n",
    "plt.ylabel('GDP')\n",
    "plt.bar(country, gdp, color ='maroon',width = 0.4)\n"
   ]
  },
  {
   "cell_type": "markdown",
   "id": "b5a84d12",
   "metadata": {
    "papermill": {
     "duration": 0.028236,
     "end_time": "2022-01-23T13:20:20.780131",
     "exception": false,
     "start_time": "2022-01-23T13:20:20.751895",
     "status": "completed"
    },
    "tags": []
   },
   "source": [
    "****"
   ]
  }
 ],
 "metadata": {
  "kernelspec": {
   "display_name": "Python 3",
   "language": "python",
   "name": "python3"
  },
  "language_info": {
   "codemirror_mode": {
    "name": "ipython",
    "version": 3
   },
   "file_extension": ".py",
   "mimetype": "text/x-python",
   "name": "python",
   "nbconvert_exporter": "python",
   "pygments_lexer": "ipython3",
   "version": "3.7.12"
  },
  "papermill": {
   "default_parameters": {},
   "duration": 16.059081,
   "end_time": "2022-01-23T13:20:21.721786",
   "environment_variables": {},
   "exception": null,
   "input_path": "__notebook__.ipynb",
   "output_path": "__notebook__.ipynb",
   "parameters": {},
   "start_time": "2022-01-23T13:20:05.662705",
   "version": "2.3.3"
  }
 },
 "nbformat": 4,
 "nbformat_minor": 5
}
