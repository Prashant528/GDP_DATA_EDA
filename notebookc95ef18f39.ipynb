{
 "cells": [
  {
   "cell_type": "code",
   "execution_count": 1,
   "id": "33e44756",
   "metadata": {
    "_cell_guid": "b1076dfc-b9ad-4769-8c92-a6c4dae69d19",
    "_uuid": "8f2839f25d086af736a60e9eeb907d3b93b6e0e5",
    "execution": {
     "iopub.execute_input": "2022-02-01T17:00:04.694258Z",
     "iopub.status.busy": "2022-02-01T17:00:04.689517Z",
     "iopub.status.idle": "2022-02-01T17:00:04.710707Z",
     "shell.execute_reply": "2022-02-01T17:00:04.711655Z",
     "shell.execute_reply.started": "2022-02-01T16:24:58.042086Z"
    },
    "papermill": {
     "duration": 0.048907,
     "end_time": "2022-02-01T17:00:04.712174",
     "exception": false,
     "start_time": "2022-02-01T17:00:04.663267",
     "status": "completed"
    },
    "tags": []
   },
   "outputs": [
    {
     "name": "stdout",
     "output_type": "stream",
     "text": [
      "/kaggle/input/gdp-of-all-countries19602020/gdp_1960_2020.csv\n"
     ]
    }
   ],
   "source": [
    "# This Python 3 environment comes with many helpful analytics libraries installed\n",
    "# It is defined by the kaggle/python Docker image: https://github.com/kaggle/docker-python\n",
    "# For example, here's several helpful packages to load\n",
    "\n",
    "import numpy as np # linear algebra\n",
    "import pandas as pd # data processing, CSV file I/O (e.g. pd.read_csv)\n",
    "\n",
    "# Input data files are available in the read-only \"../input/\" directory\n",
    "# For example, running this (by clicking run or pressing Shift+Enter) will list all files under the input directory\n",
    "\n",
    "import os\n",
    "for dirname, _, filenames in os.walk('/kaggle/input'):\n",
    "    for filename in filenames:\n",
    "        print(os.path.join(dirname, filename))\n",
    "\n",
    "# You can write up to 20GB to the current directory (/kaggle/working/) that gets preserved as output when you create a version using \"Save & Run All\" \n",
    "# You can also write temporary files to /kaggle/temp/, but they won't be saved outside of the current session"
   ]
  },
  {
   "cell_type": "markdown",
   "id": "e18fc01f",
   "metadata": {
    "papermill": {
     "duration": 0.01681,
     "end_time": "2022-02-01T17:00:04.748078",
     "exception": false,
     "start_time": "2022-02-01T17:00:04.731268",
     "status": "completed"
    },
    "tags": []
   },
   "source": [
    " # 1. Reading the data"
   ]
  },
  {
   "cell_type": "code",
   "execution_count": 2,
   "id": "7f1bfcc6",
   "metadata": {
    "execution": {
     "iopub.execute_input": "2022-02-01T17:00:04.787762Z",
     "iopub.status.busy": "2022-02-01T17:00:04.787171Z",
     "iopub.status.idle": "2022-02-01T17:00:04.833132Z",
     "shell.execute_reply": "2022-02-01T17:00:04.833618Z",
     "shell.execute_reply.started": "2022-02-01T16:24:58.077799Z"
    },
    "papermill": {
     "duration": 0.068562,
     "end_time": "2022-02-01T17:00:04.833778",
     "exception": false,
     "start_time": "2022-02-01T17:00:04.765216",
     "status": "completed"
    },
    "tags": []
   },
   "outputs": [
    {
     "data": {
      "text/html": [
       "<div>\n",
       "<style scoped>\n",
       "    .dataframe tbody tr th:only-of-type {\n",
       "        vertical-align: middle;\n",
       "    }\n",
       "\n",
       "    .dataframe tbody tr th {\n",
       "        vertical-align: top;\n",
       "    }\n",
       "\n",
       "    .dataframe thead th {\n",
       "        text-align: right;\n",
       "    }\n",
       "</style>\n",
       "<table border=\"1\" class=\"dataframe\">\n",
       "  <thead>\n",
       "    <tr style=\"text-align: right;\">\n",
       "      <th></th>\n",
       "      <th>year</th>\n",
       "      <th>rank</th>\n",
       "      <th>country</th>\n",
       "      <th>state</th>\n",
       "      <th>gdp</th>\n",
       "      <th>gdp_percent</th>\n",
       "    </tr>\n",
       "  </thead>\n",
       "  <tbody>\n",
       "    <tr>\n",
       "      <th>0</th>\n",
       "      <td>1960</td>\n",
       "      <td>1</td>\n",
       "      <td>the United States</td>\n",
       "      <td>America</td>\n",
       "      <td>543300000000</td>\n",
       "      <td>0.468483</td>\n",
       "    </tr>\n",
       "    <tr>\n",
       "      <th>1</th>\n",
       "      <td>1960</td>\n",
       "      <td>2</td>\n",
       "      <td>United Kingdom</td>\n",
       "      <td>Europe</td>\n",
       "      <td>73233967692</td>\n",
       "      <td>0.063149</td>\n",
       "    </tr>\n",
       "    <tr>\n",
       "      <th>2</th>\n",
       "      <td>1960</td>\n",
       "      <td>3</td>\n",
       "      <td>France</td>\n",
       "      <td>Europe</td>\n",
       "      <td>62225478000</td>\n",
       "      <td>0.053656</td>\n",
       "    </tr>\n",
       "    <tr>\n",
       "      <th>3</th>\n",
       "      <td>1960</td>\n",
       "      <td>4</td>\n",
       "      <td>China</td>\n",
       "      <td>Asia</td>\n",
       "      <td>59716467625</td>\n",
       "      <td>0.051493</td>\n",
       "    </tr>\n",
       "    <tr>\n",
       "      <th>4</th>\n",
       "      <td>1960</td>\n",
       "      <td>5</td>\n",
       "      <td>Japan</td>\n",
       "      <td>Asia</td>\n",
       "      <td>44307342950</td>\n",
       "      <td>0.038206</td>\n",
       "    </tr>\n",
       "    <tr>\n",
       "      <th>5</th>\n",
       "      <td>1960</td>\n",
       "      <td>6</td>\n",
       "      <td>Canada</td>\n",
       "      <td>America</td>\n",
       "      <td>40461721692</td>\n",
       "      <td>0.034890</td>\n",
       "    </tr>\n",
       "    <tr>\n",
       "      <th>6</th>\n",
       "      <td>1960</td>\n",
       "      <td>7</td>\n",
       "      <td>Italy</td>\n",
       "      <td>Europe</td>\n",
       "      <td>40385288344</td>\n",
       "      <td>0.034824</td>\n",
       "    </tr>\n",
       "    <tr>\n",
       "      <th>7</th>\n",
       "      <td>1960</td>\n",
       "      <td>8</td>\n",
       "      <td>India</td>\n",
       "      <td>Asia</td>\n",
       "      <td>37029883875</td>\n",
       "      <td>0.031931</td>\n",
       "    </tr>\n",
       "    <tr>\n",
       "      <th>8</th>\n",
       "      <td>1960</td>\n",
       "      <td>9</td>\n",
       "      <td>Australia</td>\n",
       "      <td>Oceania</td>\n",
       "      <td>18577668271</td>\n",
       "      <td>0.016019</td>\n",
       "    </tr>\n",
       "    <tr>\n",
       "      <th>9</th>\n",
       "      <td>1960</td>\n",
       "      <td>10</td>\n",
       "      <td>Sweden</td>\n",
       "      <td>Europe</td>\n",
       "      <td>15822585033</td>\n",
       "      <td>0.013644</td>\n",
       "    </tr>\n",
       "  </tbody>\n",
       "</table>\n",
       "</div>"
      ],
      "text/plain": [
       "   year  rank            country    state           gdp  gdp_percent\n",
       "0  1960     1  the United States  America  543300000000     0.468483\n",
       "1  1960     2     United Kingdom   Europe   73233967692     0.063149\n",
       "2  1960     3             France   Europe   62225478000     0.053656\n",
       "3  1960     4              China     Asia   59716467625     0.051493\n",
       "4  1960     5              Japan     Asia   44307342950     0.038206\n",
       "5  1960     6             Canada  America   40461721692     0.034890\n",
       "6  1960     7              Italy   Europe   40385288344     0.034824\n",
       "7  1960     8              India     Asia   37029883875     0.031931\n",
       "8  1960     9          Australia  Oceania   18577668271     0.016019\n",
       "9  1960    10             Sweden   Europe   15822585033     0.013644"
      ]
     },
     "execution_count": 2,
     "metadata": {},
     "output_type": "execute_result"
    }
   ],
   "source": [
    "all_gdp_df = pd.read_csv(\"/kaggle/input/gdp-of-all-countries19602020/gdp_1960_2020.csv\");\n",
    "all_gdp_df[:10]"
   ]
  },
  {
   "cell_type": "markdown",
   "id": "cc507320",
   "metadata": {
    "papermill": {
     "duration": 0.017006,
     "end_time": "2022-02-01T17:00:04.868046",
     "exception": false,
     "start_time": "2022-02-01T17:00:04.851040",
     "status": "completed"
    },
    "tags": []
   },
   "source": [
    " # 2. **Checking the consistency of country over years.**"
   ]
  },
  {
   "cell_type": "code",
   "execution_count": 3,
   "id": "6b039ed1",
   "metadata": {
    "execution": {
     "iopub.execute_input": "2022-02-01T17:00:04.905565Z",
     "iopub.status.busy": "2022-02-01T17:00:04.904989Z",
     "iopub.status.idle": "2022-02-01T17:00:04.919019Z",
     "shell.execute_reply": "2022-02-01T17:00:04.919794Z",
     "shell.execute_reply.started": "2022-02-01T16:24:58.134992Z"
    },
    "papermill": {
     "duration": 0.034856,
     "end_time": "2022-02-01T17:00:04.920116",
     "exception": false,
     "start_time": "2022-02-01T17:00:04.885260",
     "status": "completed"
    },
    "tags": []
   },
   "outputs": [
    {
     "name": "stdout",
     "output_type": "stream",
     "text": [
      "year\n",
      "1960    103\n",
      "1961    103\n",
      "1962    105\n",
      "1963    105\n",
      "1964    105\n",
      "       ... \n",
      "2016    205\n",
      "2017    204\n",
      "2018    204\n",
      "2019    199\n",
      "2020    175\n",
      "Name: gdp, Length: 61, dtype: int64\n",
      "103\n"
     ]
    }
   ],
   "source": [
    "count_in_each_year = pd.Series(all_gdp_df.groupby('year')['gdp'].count())\n",
    "print(count_in_each_year)\n",
    "# so the number of countries in each year is inconsistent.\n",
    "print(count_in_each_year.min())\n"
   ]
  },
  {
   "cell_type": "markdown",
   "id": "b1aef521",
   "metadata": {
    "papermill": {
     "duration": 0.017333,
     "end_time": "2022-02-01T17:00:04.956435",
     "exception": false,
     "start_time": "2022-02-01T17:00:04.939102",
     "status": "completed"
    },
    "tags": []
   },
   "source": [
    "# Years with minimum number of countries."
   ]
  },
  {
   "cell_type": "code",
   "execution_count": 4,
   "id": "885db5e1",
   "metadata": {
    "execution": {
     "iopub.execute_input": "2022-02-01T17:00:04.995504Z",
     "iopub.status.busy": "2022-02-01T17:00:04.994574Z",
     "iopub.status.idle": "2022-02-01T17:00:05.002269Z",
     "shell.execute_reply": "2022-02-01T17:00:05.001776Z",
     "shell.execute_reply.started": "2022-02-01T16:24:58.155557Z"
    },
    "papermill": {
     "duration": 0.028325,
     "end_time": "2022-02-01T17:00:05.002453",
     "exception": false,
     "start_time": "2022-02-01T17:00:04.974128",
     "status": "completed"
    },
    "tags": []
   },
   "outputs": [
    {
     "name": "stdout",
     "output_type": "stream",
     "text": [
      "year\n",
      "1960    103.0\n",
      "1961    103.0\n",
      "Name: gdp, dtype: float64\n"
     ]
    }
   ],
   "source": [
    "#where gives Nan in the places where the conditions don't match. So, we use dropna().\n",
    "print(count_in_each_year.where(count_in_each_year==103).dropna())"
   ]
  },
  {
   "cell_type": "markdown",
   "id": "777f4ca1",
   "metadata": {
    "papermill": {
     "duration": 0.021158,
     "end_time": "2022-02-01T17:00:05.043429",
     "exception": false,
     "start_time": "2022-02-01T17:00:05.022271",
     "status": "completed"
    },
    "tags": []
   },
   "source": [
    "**Checking if these two years have same countries.**"
   ]
  },
  {
   "cell_type": "code",
   "execution_count": 5,
   "id": "72a7f47d",
   "metadata": {
    "execution": {
     "iopub.execute_input": "2022-02-01T17:00:05.084976Z",
     "iopub.status.busy": "2022-02-01T17:00:05.084022Z",
     "iopub.status.idle": "2022-02-01T17:00:05.114262Z",
     "shell.execute_reply": "2022-02-01T17:00:05.113684Z",
     "shell.execute_reply.started": "2022-02-01T16:24:58.164960Z"
    },
    "papermill": {
     "duration": 0.05161,
     "end_time": "2022-02-01T17:00:05.114452",
     "exception": false,
     "start_time": "2022-02-01T17:00:05.062842",
     "status": "completed"
    },
    "tags": []
   },
   "outputs": [
    {
     "name": "stdout",
     "output_type": "stream",
     "text": [
      "103                   the United States\n",
      "104                      United Kingdom\n",
      "105                              France\n",
      "106                               Japan\n",
      "107                               China\n",
      "                     ...               \n",
      "201                            Botswana\n",
      "202                              Belize\n",
      "203    Saint Vincent and the Grenadines\n",
      "204               Saint Kitts and Nevis\n",
      "205                          Seychelles\n",
      "Name: country, Length: 103, dtype: object\n"
     ]
    }
   ],
   "source": [
    "filter1 = all_gdp_df['year']==1960\n",
    "nations_1960 = pd.Series(all_gdp_df.where(filter1).dropna()['country'])\n",
    "filter2 = all_gdp_df['year']==1961\n",
    "nations_1961 = pd.Series(all_gdp_df.where(filter2).dropna()['country'])\n",
    "print(nations_1961)\n",
    "#the new series for 1961 is being indexed starting from 103. Need to reset it."
   ]
  },
  {
   "cell_type": "markdown",
   "id": "2013f241",
   "metadata": {
    "papermill": {
     "duration": 0.019046,
     "end_time": "2022-02-01T17:00:05.151844",
     "exception": false,
     "start_time": "2022-02-01T17:00:05.132798",
     "status": "completed"
    },
    "tags": []
   },
   "source": [
    "**Check for similarity**"
   ]
  },
  {
   "cell_type": "code",
   "execution_count": 6,
   "id": "f17a200d",
   "metadata": {
    "execution": {
     "iopub.execute_input": "2022-02-01T17:00:05.191582Z",
     "iopub.status.busy": "2022-02-01T17:00:05.190994Z",
     "iopub.status.idle": "2022-02-01T17:00:05.204975Z",
     "shell.execute_reply": "2022-02-01T17:00:05.205541Z",
     "shell.execute_reply.started": "2022-02-01T16:24:58.199342Z"
    },
    "papermill": {
     "duration": 0.035504,
     "end_time": "2022-02-01T17:00:05.205710",
     "exception": false,
     "start_time": "2022-02-01T17:00:05.170206",
     "status": "completed"
    },
    "tags": []
   },
   "outputs": [
    {
     "data": {
      "text/html": [
       "<div>\n",
       "<style scoped>\n",
       "    .dataframe tbody tr th:only-of-type {\n",
       "        vertical-align: middle;\n",
       "    }\n",
       "\n",
       "    .dataframe tbody tr th {\n",
       "        vertical-align: top;\n",
       "    }\n",
       "\n",
       "    .dataframe thead th {\n",
       "        text-align: right;\n",
       "    }\n",
       "</style>\n",
       "<table border=\"1\" class=\"dataframe\">\n",
       "  <thead>\n",
       "    <tr style=\"text-align: right;\">\n",
       "      <th></th>\n",
       "      <th>self</th>\n",
       "      <th>other</th>\n",
       "    </tr>\n",
       "  </thead>\n",
       "  <tbody>\n",
       "  </tbody>\n",
       "</table>\n",
       "</div>"
      ],
      "text/plain": [
       "Empty DataFrame\n",
       "Columns: [self, other]\n",
       "Index: []"
      ]
     },
     "execution_count": 6,
     "metadata": {},
     "output_type": "execute_result"
    }
   ],
   "source": [
    "#resetting the index of 1961 series.\n",
    "nations_1961 = nations_1961.reset_index(drop = True)\n",
    "nations_1960.compare(nations_1961)\n",
    "#need to sort the country names\n",
    "nations_1960_sorted = pd.Series(nations_1960.sort_values(ignore_index=True))\n",
    "nations_1961_sorted = pd.Series(nations_1961.sort_values(ignore_index=True))\n",
    "nations_1960_sorted.compare(nations_1961_sorted)\n",
    "#so the countries in 1960 and 1961 are all same. "
   ]
  },
  {
   "cell_type": "markdown",
   "id": "222518ae",
   "metadata": {
    "papermill": {
     "duration": 0.018042,
     "end_time": "2022-02-01T17:00:05.243295",
     "exception": false,
     "start_time": "2022-02-01T17:00:05.225253",
     "status": "completed"
    },
    "tags": []
   },
   "source": [
    "**For data consistency, I'll try to take these 103 countries only in other years too.**"
   ]
  },
  {
   "cell_type": "code",
   "execution_count": 7,
   "id": "10f634fe",
   "metadata": {
    "execution": {
     "iopub.execute_input": "2022-02-01T17:00:05.282631Z",
     "iopub.status.busy": "2022-02-01T17:00:05.282055Z",
     "iopub.status.idle": "2022-02-01T17:00:05.324767Z",
     "shell.execute_reply": "2022-02-01T17:00:05.324318Z",
     "shell.execute_reply.started": "2022-02-01T16:24:58.220146Z"
    },
    "papermill": {
     "duration": 0.06354,
     "end_time": "2022-02-01T17:00:05.324923",
     "exception": false,
     "start_time": "2022-02-01T17:00:05.261383",
     "status": "completed"
    },
    "tags": []
   },
   "outputs": [
    {
     "data": {
      "text/plain": [
       "year           206\n",
       "rank           206\n",
       "country        206\n",
       "state          206\n",
       "gdp            206\n",
       "gdp_percent    206\n",
       "dtype: int64"
      ]
     },
     "execution_count": 7,
     "metadata": {},
     "output_type": "execute_result"
    }
   ],
   "source": [
    "\n",
    "#checking merging (join) query for two years.\n",
    "#using astype(object) because where() upcasted the gdp to float representation(precision got lost).\n",
    "nations_1965 = pd.DataFrame(all_gdp_df.where(all_gdp_df.year==1980).astype('O').dropna()[\"country\"])\n",
    "nations_1960 = all_gdp_df.where(all_gdp_df.year==1960).astype('O').dropna()\n",
    "merged = pd.merge(nations_1965, nations_1960, on=['country'], how='inner')\n",
    "\n",
    "test_joined = nations_1960.join(nations_1965.set_index('country'), how='inner',lsuffix=\"_x\", on='country')\n",
    "test_filtered =  test_joined[['year', 'rank', 'country', 'state', 'gdp', 'gdp_percent']].copy()\n",
    "test_summed = nations_1960.append(test_filtered)\n",
    "test_summed.count()\n"
   ]
  },
  {
   "cell_type": "markdown",
   "id": "3b725abb",
   "metadata": {
    "papermill": {
     "duration": 0.018401,
     "end_time": "2022-02-01T17:00:05.363903",
     "exception": false,
     "start_time": "2022-02-01T17:00:05.345502",
     "status": "completed"
    },
    "tags": []
   },
   "source": [
    "**It turns out the number of common countries is even less than 103. So, Getting the common set of countries in all years.**"
   ]
  },
  {
   "cell_type": "code",
   "execution_count": 8,
   "id": "79b0c65b",
   "metadata": {
    "execution": {
     "iopub.execute_input": "2022-02-01T17:00:05.403853Z",
     "iopub.status.busy": "2022-02-01T17:00:05.403292Z",
     "iopub.status.idle": "2022-02-01T17:00:06.108619Z",
     "shell.execute_reply": "2022-02-01T17:00:06.109085Z",
     "shell.execute_reply.started": "2022-02-01T16:24:58.276784Z"
    },
    "papermill": {
     "duration": 0.726843,
     "end_time": "2022-02-01T17:00:06.109265",
     "exception": false,
     "start_time": "2022-02-01T17:00:05.382422",
     "status": "completed"
    },
    "tags": []
   },
   "outputs": [
    {
     "name": "stdout",
     "output_type": "stream",
     "text": [
      "count in year:  1960  =  103\n",
      "count in year:  1961  =  103\n",
      "count in year:  1962  =  103\n",
      "count in year:  1963  =  103\n",
      "count in year:  1964  =  103\n",
      "count in year:  1965  =  102\n",
      "count in year:  1966  =  102\n",
      "count in year:  1967  =  102\n",
      "count in year:  1968  =  102\n",
      "count in year:  1969  =  102\n",
      "count in year:  1970  =  102\n",
      "count in year:  1971  =  102\n",
      "count in year:  1972  =  102\n",
      "count in year:  1973  =  102\n",
      "count in year:  1974  =  102\n",
      "count in year:  1975  =  101\n",
      "count in year:  1976  =  101\n",
      "count in year:  1977  =  101\n",
      "count in year:  1978  =  101\n",
      "count in year:  1979  =  101\n",
      "count in year:  1980  =  101\n",
      "count in year:  1981  =  101\n",
      "count in year:  1982  =  100\n",
      "count in year:  1983  =  100\n",
      "count in year:  1984  =  100\n",
      "count in year:  1985  =  100\n",
      "count in year:  1986  =  100\n",
      "count in year:  1987  =  100\n",
      "count in year:  1988  =  100\n",
      "count in year:  1989  =  100\n",
      "count in year:  1990  =  100\n",
      "count in year:  1991  =  98\n",
      "count in year:  1992  =  98\n",
      "count in year:  1993  =  98\n",
      "count in year:  1994  =  98\n",
      "count in year:  1995  =  98\n",
      "count in year:  1996  =  98\n",
      "count in year:  1997  =  98\n",
      "count in year:  1998  =  98\n",
      "count in year:  1999  =  98\n",
      "count in year:  2000  =  98\n",
      "count in year:  2001  =  98\n",
      "count in year:  2002  =  98\n",
      "count in year:  2003  =  98\n",
      "count in year:  2004  =  98\n",
      "count in year:  2005  =  98\n",
      "count in year:  2006  =  98\n",
      "count in year:  2007  =  98\n",
      "count in year:  2008  =  97\n",
      "count in year:  2009  =  97\n",
      "count in year:  2010  =  97\n",
      "count in year:  2011  =  97\n",
      "count in year:  2012  =  97\n",
      "count in year:  2013  =  97\n",
      "count in year:  2014  =  97\n",
      "count in year:  2015  =  96\n",
      "count in year:  2016  =  96\n",
      "count in year:  2017  =  96\n",
      "count in year:  2018  =  96\n",
      "count in year:  2019  =  96\n",
      "count in year:  2020  =  94\n"
     ]
    }
   ],
   "source": [
    "filtered_countries = pd.DataFrame(all_gdp_df.where(all_gdp_df.year==1960).dropna()[\"country\"])\n",
    "#initializing empty df for storing all year's filtered dfs.\n",
    "common_countries = pd.DataFrame(columns=['country'])\n",
    "for year, count in count_in_each_year.items():\n",
    "    #get the dfs for each year\n",
    "    countries_in_year = pd.DataFrame(all_gdp_df.where(all_gdp_df.year==year).dropna()[\"country\"])\n",
    "    #deduplicating the countries in each year.\n",
    "    countries_in_year.drop_duplicates(subset=['country'], inplace=True)\n",
    "    #join the dfs with 1960 year by ''country''\n",
    "    right_suffix = '_'+ str(year)\n",
    "    joined = countries_in_year.join(filtered_countries.set_index('country'), rsuffix=right_suffix, on='country', how='inner')\n",
    "    #join returns columns of both left and right tables, so copying only the left columns.\n",
    "    filtered_countries =  joined[['country']].copy()\n",
    "    print('count in year: ', year, ' = ',filtered_countries['country'].count() )\n"
   ]
  },
  {
   "cell_type": "code",
   "execution_count": 9,
   "id": "9720e9ee",
   "metadata": {
    "execution": {
     "iopub.execute_input": "2022-02-01T17:00:06.154288Z",
     "iopub.status.busy": "2022-02-01T17:00:06.153713Z",
     "iopub.status.idle": "2022-02-01T17:00:06.156499Z",
     "shell.execute_reply": "2022-02-01T17:00:06.155974Z",
     "shell.execute_reply.started": "2022-02-01T16:24:59.170797Z"
    },
    "papermill": {
     "duration": 0.027761,
     "end_time": "2022-02-01T17:00:06.156636",
     "exception": false,
     "start_time": "2022-02-01T17:00:06.128875",
     "status": "completed"
    },
    "tags": []
   },
   "outputs": [
    {
     "name": "stdout",
     "output_type": "stream",
     "text": [
      "country    94\n",
      "dtype: int64\n"
     ]
    }
   ],
   "source": [
    "print(filtered_countries.count())\n",
    "# gives 94 . so we have 94 countries which are available in all years!\n"
   ]
  },
  {
   "cell_type": "markdown",
   "id": "c9fd5d58",
   "metadata": {
    "papermill": {
     "duration": 0.019563,
     "end_time": "2022-02-01T17:00:06.196006",
     "exception": false,
     "start_time": "2022-02-01T17:00:06.176443",
     "status": "completed"
    },
    "tags": []
   },
   "source": [
    "**Constructing a new dataframe using this list of countries and joining them with dfs of each country.**"
   ]
  },
  {
   "cell_type": "code",
   "execution_count": 10,
   "id": "9d1e5469",
   "metadata": {
    "execution": {
     "iopub.execute_input": "2022-02-01T17:00:06.246261Z",
     "iopub.status.busy": "2022-02-01T17:00:06.245448Z",
     "iopub.status.idle": "2022-02-01T17:00:07.083766Z",
     "shell.execute_reply": "2022-02-01T17:00:07.083126Z",
     "shell.execute_reply.started": "2022-02-01T16:24:59.178786Z"
    },
    "papermill": {
     "duration": 0.867975,
     "end_time": "2022-02-01T17:00:07.083939",
     "exception": false,
     "start_time": "2022-02-01T17:00:06.215964",
     "status": "completed"
    },
    "tags": []
   },
   "outputs": [
    {
     "name": "stdout",
     "output_type": "stream",
     "text": [
      "count in year:  1960  =  1.0\n",
      "count in year:  1961  =  2.0\n",
      "count in year:  1962  =  3.0\n",
      "count in year:  1963  =  4.0\n",
      "count in year:  1964  =  5.0\n",
      "count in year:  1965  =  6.0\n",
      "count in year:  1966  =  7.0\n",
      "count in year:  1967  =  8.0\n",
      "count in year:  1968  =  9.0\n",
      "count in year:  1969  =  10.0\n",
      "count in year:  1970  =  11.0\n",
      "count in year:  1971  =  12.0\n",
      "count in year:  1972  =  13.0\n",
      "count in year:  1973  =  14.0\n",
      "count in year:  1974  =  15.0\n",
      "count in year:  1975  =  16.0\n",
      "count in year:  1976  =  17.0\n",
      "count in year:  1977  =  18.0\n",
      "count in year:  1978  =  19.0\n",
      "count in year:  1979  =  20.0\n",
      "count in year:  1980  =  21.0\n",
      "count in year:  1981  =  22.0\n",
      "count in year:  1982  =  23.0\n",
      "count in year:  1983  =  24.0\n",
      "count in year:  1984  =  25.0\n",
      "count in year:  1985  =  26.0\n",
      "count in year:  1986  =  27.0\n",
      "count in year:  1987  =  28.0\n",
      "count in year:  1988  =  29.0\n",
      "count in year:  1989  =  30.0\n",
      "count in year:  1990  =  31.0\n",
      "count in year:  1991  =  32.0\n",
      "count in year:  1992  =  33.0\n",
      "count in year:  1993  =  34.0\n",
      "count in year:  1994  =  35.0\n",
      "count in year:  1995  =  36.0\n",
      "count in year:  1996  =  37.0\n",
      "count in year:  1997  =  38.0\n",
      "count in year:  1998  =  39.0\n",
      "count in year:  1999  =  40.0\n",
      "count in year:  2000  =  41.0\n",
      "count in year:  2001  =  42.0\n",
      "count in year:  2002  =  43.0\n",
      "count in year:  2003  =  44.0\n",
      "count in year:  2004  =  45.0\n",
      "count in year:  2005  =  46.0\n",
      "count in year:  2006  =  47.0\n",
      "count in year:  2007  =  48.0\n",
      "count in year:  2008  =  49.0\n",
      "count in year:  2009  =  50.0\n",
      "count in year:  2010  =  51.0\n",
      "count in year:  2011  =  52.0\n",
      "count in year:  2012  =  53.0\n",
      "count in year:  2013  =  54.0\n",
      "count in year:  2014  =  55.0\n",
      "count in year:  2015  =  56.0\n",
      "count in year:  2016  =  57.0\n",
      "count in year:  2017  =  58.0\n",
      "count in year:  2018  =  59.0\n",
      "count in year:  2019  =  60.0\n",
      "count in year:  2020  =  61.0\n"
     ]
    }
   ],
   "source": [
    "#initializing empty df for storing all year's filtered dfs.\n",
    "filtered_all_gdp_df = pd.DataFrame(columns=['year', 'rank', 'country', 'state', 'gdp', 'gdp_percent'])\n",
    "for year, count in count_in_each_year.items():\n",
    "    #get the dfs for each year\n",
    "    df_for_year = all_gdp_df.where(all_gdp_df.year==year).dropna()\n",
    "    #deduplicating the countries in each year's df.\n",
    "    df_for_year.drop_duplicates(subset=['country'], inplace=True)\n",
    "    #join the dfs with filtered_countries year by ''country''\n",
    "    joined = df_for_year.join(filtered_countries.set_index('country'), rsuffix='_1960', on='country', how='inner')\n",
    "    #join returns columns of both left and right tables, so copying only the left columns.\n",
    "    filtered_df_for_year =  joined[['year', 'rank', 'country', 'state', 'gdp', 'gdp_percent']].copy()\n",
    "    #appending dfs of each year to our initial empty df.\n",
    "    filtered_all_gdp_df = filtered_all_gdp_df.append(filtered_df_for_year)\n",
    "    print('count in year: ', year, ' = ',filtered_all_gdp_df['year'].count()/94)\n",
    "\n",
    "    #AND FINALLY THE COUNTRIES IN EACH YEAR ARE CONSISTENT."
   ]
  },
  {
   "cell_type": "code",
   "execution_count": 11,
   "id": "f1e523f1",
   "metadata": {
    "execution": {
     "iopub.execute_input": "2022-02-01T17:00:07.136294Z",
     "iopub.status.busy": "2022-02-01T17:00:07.135354Z",
     "iopub.status.idle": "2022-02-01T17:00:07.152330Z",
     "shell.execute_reply": "2022-02-01T17:00:07.151807Z",
     "shell.execute_reply.started": "2022-02-01T16:25:00.097881Z"
    },
    "papermill": {
     "duration": 0.045394,
     "end_time": "2022-02-01T17:00:07.152458",
     "exception": false,
     "start_time": "2022-02-01T17:00:07.107064",
     "status": "completed"
    },
    "tags": []
   },
   "outputs": [
    {
     "data": {
      "text/html": [
       "<div>\n",
       "<style scoped>\n",
       "    .dataframe tbody tr th:only-of-type {\n",
       "        vertical-align: middle;\n",
       "    }\n",
       "\n",
       "    .dataframe tbody tr th {\n",
       "        vertical-align: top;\n",
       "    }\n",
       "\n",
       "    .dataframe thead th {\n",
       "        text-align: right;\n",
       "    }\n",
       "</style>\n",
       "<table border=\"1\" class=\"dataframe\">\n",
       "  <thead>\n",
       "    <tr style=\"text-align: right;\">\n",
       "      <th></th>\n",
       "      <th>year</th>\n",
       "      <th>rank</th>\n",
       "      <th>country</th>\n",
       "      <th>state</th>\n",
       "      <th>gdp</th>\n",
       "      <th>gdp_percent</th>\n",
       "    </tr>\n",
       "  </thead>\n",
       "  <tbody>\n",
       "  </tbody>\n",
       "</table>\n",
       "</div>"
      ],
      "text/plain": [
       "Empty DataFrame\n",
       "Columns: [year, rank, country, state, gdp, gdp_percent]\n",
       "Index: []"
      ]
     },
     "execution_count": 11,
     "metadata": {},
     "output_type": "execute_result"
    }
   ],
   "source": [
    "#just checking if Nepal is included in these 103 countries.\n",
    "filtered_all_gdp_df.where(nations_1960_sorted==\"Nepal\").dropna()\n",
    "#sadly we lost Nepal on the way. The data for Nepal is missing in some years."
   ]
  },
  {
   "cell_type": "markdown",
   "id": "6c31cf2d",
   "metadata": {
    "papermill": {
     "duration": 0.022444,
     "end_time": "2022-02-01T17:00:07.197776",
     "exception": false,
     "start_time": "2022-02-01T17:00:07.175332",
     "status": "completed"
    },
    "tags": []
   },
   "source": [
    "# 3. Visualization"
   ]
  },
  {
   "cell_type": "markdown",
   "id": "ce808593",
   "metadata": {
    "papermill": {
     "duration": 0.022397,
     "end_time": "2022-02-01T17:00:07.242803",
     "exception": false,
     "start_time": "2022-02-01T17:00:07.220406",
     "status": "completed"
    },
    "tags": []
   },
   "source": [
    "**A. Total GDP of all countries over the years**"
   ]
  },
  {
   "cell_type": "code",
   "execution_count": 12,
   "id": "37c7cde1",
   "metadata": {
    "execution": {
     "iopub.execute_input": "2022-02-01T17:00:07.301586Z",
     "iopub.status.busy": "2022-02-01T17:00:07.300955Z",
     "iopub.status.idle": "2022-02-01T17:00:07.563034Z",
     "shell.execute_reply": "2022-02-01T17:00:07.562465Z",
     "shell.execute_reply.started": "2022-02-01T16:25:00.122844Z"
    },
    "papermill": {
     "duration": 0.297449,
     "end_time": "2022-02-01T17:00:07.563175",
     "exception": false,
     "start_time": "2022-02-01T17:00:07.265726",
     "status": "completed"
    },
    "tags": []
   },
   "outputs": [
    {
     "data": {
      "text/plain": [
       "[<matplotlib.lines.Line2D at 0x7f603b4d4710>]"
      ]
     },
     "execution_count": 12,
     "metadata": {},
     "output_type": "execute_result"
    },
    {
     "data": {
      "image/png": "[encoded data removed]",
      "text/plain": [
       "<Figure size 720x360 with 1 Axes>"
      ]
     },
     "metadata": {
      "needs_background": "light"
     },
     "output_type": "display_data"
    }
   ],
   "source": [
    "from matplotlib import pyplot as plt\n",
    "\n",
    "years = pd.Series(count_in_each_year.index)\n",
    "total_gdp_per_yr = pd.Series(filtered_all_gdp_df.groupby('year')['gdp'].sum())\n",
    "plt.figure(figsize=(10,5))\n",
    "plt.title(\"Total GDP of all countries over the years\")\n",
    "plt.xlabel(\"YEARS\")\n",
    "plt.ylabel(\"TOTAL GDP\")\n",
    "#changing the scale of x-axis to 5 years range.\n",
    "plt.xticks(range(min(years), max(years)+1, 5))\n",
    "plt.plot(years, total_gdp_per_yr)"
   ]
  },
  {
   "cell_type": "markdown",
   "id": "372ec247",
   "metadata": {
    "papermill": {
     "duration": 0.024084,
     "end_time": "2022-02-01T17:00:07.611786",
     "exception": false,
     "start_time": "2022-02-01T17:00:07.587702",
     "status": "completed"
    },
    "tags": []
   },
   "source": [
    "**B. Top ten countries in 2020**"
   ]
  },
  {
   "cell_type": "code",
   "execution_count": 13,
   "id": "c8db2b4c",
   "metadata": {
    "execution": {
     "iopub.execute_input": "2022-02-01T17:00:07.665791Z",
     "iopub.status.busy": "2022-02-01T17:00:07.665231Z",
     "iopub.status.idle": "2022-02-01T17:00:08.005587Z",
     "shell.execute_reply": "2022-02-01T17:00:08.004981Z",
     "shell.execute_reply.started": "2022-02-01T16:25:00.427660Z"
    },
    "papermill": {
     "duration": 0.368948,
     "end_time": "2022-02-01T17:00:08.005735",
     "exception": false,
     "start_time": "2022-02-01T17:00:07.636787",
     "status": "completed"
    },
    "tags": []
   },
   "outputs": [
    {
     "data": {
      "text/plain": [
       "<BarContainer object of 10 artists>"
      ]
     },
     "execution_count": 13,
     "metadata": {},
     "output_type": "execute_result"
    },
    {
     "data": {
      "image/png": "[encoded data removed]",
      "text/plain": [
       "<Figure size 720x360 with 1 Axes>"
      ]
     },
     "metadata": {
      "needs_background": "light"
     },
     "output_type": "display_data"
    }
   ],
   "source": [
    "top_10_df = filtered_all_gdp_df.where(filtered_all_gdp_df.year==2020).dropna().head(10)\n",
    "#no need to sort as the dataframe is already sorted by rank.\n",
    "# print(top_10_df)\n",
    "#plotting bar plot\n",
    "top_10_country = top_10_df.loc[:, 'country']\n",
    "top_10_gdp = top_10_df.loc[:, 'gdp']\n",
    "plt.figure(figsize=(10,5))\n",
    "plt.title(\"GDP of top 10 countries in 2020\")\n",
    "plt.ylabel('GDP (trillion $)')\n",
    "plt.bar(top_10_country, top_10_gdp/(10**12), color ='maroon',width = 0.6)\n"
   ]
  },
  {
   "cell_type": "markdown",
   "id": "7ad8c61f",
   "metadata": {
    "papermill": {
     "duration": 0.024789,
     "end_time": "2022-02-01T17:00:08.056767",
     "exception": false,
     "start_time": "2022-02-01T17:00:08.031978",
     "status": "completed"
    },
    "tags": []
   },
   "source": [
    "**C. The portion these 10 countries make up in this dataset (2020).**"
   ]
  },
  {
   "cell_type": "code",
   "execution_count": 14,
   "id": "59520d13",
   "metadata": {
    "execution": {
     "iopub.execute_input": "2022-02-01T17:00:08.126889Z",
     "iopub.status.busy": "2022-02-01T17:00:08.126255Z",
     "iopub.status.idle": "2022-02-01T17:00:08.305096Z",
     "shell.execute_reply": "2022-02-01T17:00:08.305591Z",
     "shell.execute_reply.started": "2022-02-01T16:25:00.828236Z"
    },
    "papermill": {
     "duration": 0.223647,
     "end_time": "2022-02-01T17:00:08.305758",
     "exception": false,
     "start_time": "2022-02-01T17:00:08.082111",
     "status": "completed"
    },
    "tags": []
   },
   "outputs": [
    {
     "data": {
      "image/png": "[encoded data removed]",
      "text/plain": [
       "<Figure size 432x288 with 1 Axes>"
      ]
     },
     "metadata": {},
     "output_type": "display_data"
    }
   ],
   "source": [
    "plt.pie(top_10_gdp, labels = top_10_country, shadow=True)\n",
    "plt.title('Top 10 countries',  y=-0.15)\n",
    "plt.show() "
   ]
  },
  {
   "cell_type": "markdown",
   "id": "1f95f347",
   "metadata": {
    "papermill": {
     "duration": 0.026404,
     "end_time": "2022-02-01T17:00:08.358963",
     "exception": false,
     "start_time": "2022-02-01T17:00:08.332559",
     "status": "completed"
    },
    "tags": []
   },
   "source": [
    "**Comparing these top 10 with remaining nations.**"
   ]
  },
  {
   "cell_type": "code",
   "execution_count": 15,
   "id": "96bc5d02",
   "metadata": {
    "execution": {
     "iopub.execute_input": "2022-02-01T17:00:08.415249Z",
     "iopub.status.busy": "2022-02-01T17:00:08.414280Z",
     "iopub.status.idle": "2022-02-01T17:00:08.594231Z",
     "shell.execute_reply": "2022-02-01T17:00:08.593474Z",
     "shell.execute_reply.started": "2022-02-01T16:25:01.025007Z"
    },
    "papermill": {
     "duration": 0.209003,
     "end_time": "2022-02-01T17:00:08.594424",
     "exception": false,
     "start_time": "2022-02-01T17:00:08.385421",
     "status": "completed"
    },
    "tags": []
   },
   "outputs": [
    {
     "name": "stdout",
     "output_type": "stream",
     "text": [
      "[0.05, 0.02, 0, 0, 0, 0, 0, 0, 0, 0, 0.01]\n"
     ]
    },
    {
     "data": {
      "image/png": "[encoded data removed]",
      "text/plain": [
       "<Figure size 432x288 with 1 Axes>"
      ]
     },
     "metadata": {},
     "output_type": "display_data"
    }
   ],
   "source": [
    "remaining_nations_df = filtered_all_gdp_df.where(filtered_all_gdp_df.year==2020).dropna().tail(84)\n",
    "others_gdp = pd.Series(top_10_df.loc[:, 'gdp'].sum())\n",
    "#construct the array of values and labels for showing on pie-chart\n",
    "pie_gdps = pd.concat([top_10_gdp, others_gdp], ignore_index=True) \n",
    "pie_labels = pd.concat([top_10_country, pd.Series('Others')], ignore_index=True)\n",
    "#setting up an array for explode values\n",
    "#explode US and China a little\n",
    "myexplode = [0.05, 0.02]\n",
    "#don't explode rest of the top 10 countries\n",
    "n=8\n",
    "myexplode = myexplode + [0] * n\n",
    "#explode \"Others\" a bit more\n",
    "myexplode.append(0.01)\n",
    "print(myexplode)\n",
    "\n",
    "plt.pie(pie_gdps, labels = pie_labels, explode=myexplode, shadow=True)\n",
    "plt.title('[Top 10 countries] VS [Others] in 2020',  y=-0.15)\n",
    "plt.show() "
   ]
  },
  {
   "cell_type": "markdown",
   "id": "01c1c4d1",
   "metadata": {
    "papermill": {
     "duration": 0.027904,
     "end_time": "2022-02-01T17:00:08.650369",
     "exception": false,
     "start_time": "2022-02-01T17:00:08.622465",
     "status": "completed"
    },
    "tags": []
   },
   "source": [
    "MAYBE ADD POPULATION DATA FROM SOMEWHERE AND COMPARE POPN VS GDP GROWTH\n",
    "COMPARE US AND CHINA'S AND INDIA'S GROWTH\n",
    "COMPARE THEIRS WITH OTHERS' GROWTH "
   ]
  },
  {
   "cell_type": "markdown",
   "id": "135999af",
   "metadata": {
    "papermill": {
     "duration": 0.027332,
     "end_time": "2022-02-01T17:00:08.706678",
     "exception": false,
     "start_time": "2022-02-01T17:00:08.679346",
     "status": "completed"
    },
    "tags": []
   },
   "source": [
    "****"
   ]
  },
  {
   "cell_type": "markdown",
   "id": "a22f56e7",
   "metadata": {
    "papermill": {
     "duration": 0.027273,
     "end_time": "2022-02-01T17:00:08.761475",
     "exception": false,
     "start_time": "2022-02-01T17:00:08.734202",
     "status": "completed"
    },
    "tags": []
   },
   "source": [
    "**COMPARING GROWTH OF TOTAL VS US VS CHINA VS INDIA**"
   ]
  },
  {
   "cell_type": "code",
   "execution_count": 16,
   "id": "5d14ea93",
   "metadata": {
    "execution": {
     "iopub.execute_input": "2022-02-01T17:00:08.820273Z",
     "iopub.status.busy": "2022-02-01T17:00:08.819331Z",
     "iopub.status.idle": "2022-02-01T17:00:09.064425Z",
     "shell.execute_reply": "2022-02-01T17:00:09.063900Z",
     "shell.execute_reply.started": "2022-02-01T16:25:01.236027Z"
    },
    "papermill": {
     "duration": 0.275735,
     "end_time": "2022-02-01T17:00:09.064586",
     "exception": false,
     "start_time": "2022-02-01T17:00:08.788851",
     "status": "completed"
    },
    "tags": []
   },
   "outputs": [
    {
     "data": {
      "text/plain": [
       "<matplotlib.legend.Legend at 0x7f603b1a2790>"
      ]
     },
     "execution_count": 16,
     "metadata": {},
     "output_type": "execute_result"
    },
    {
     "data": {
      "image/png": "[encoded data removed]",
      "text/plain": [
       "<Figure size 720x360 with 1 Axes>"
      ]
     },
     "metadata": {
      "needs_background": "light"
     },
     "output_type": "display_data"
    }
   ],
   "source": [
    "#I have a series for years \"Years\" and total gdp for each year \"total_gdp_per_yr\"\n",
    "us_gdp_per_yr = filtered_all_gdp_df.loc[filtered_all_gdp_df.country.str.contains('United States' or 'USA'),:]['gdp']\n",
    "china_gdp_per_yr = filtered_all_gdp_df.loc[filtered_all_gdp_df.country.str.contains('China' or 'china'),:]['gdp']\n",
    "india_gdp_per_yr = filtered_all_gdp_df.loc[filtered_all_gdp_df.country.str.contains('India' or 'india'),:]['gdp']\n",
    "plt.figure(figsize=(10,5))\n",
    "plt.title(\"Comparison of GDP growth of US, CHINA and TOTAL\")\n",
    "plt.xlabel(\"YEARS\")\n",
    "plt.ylabel(\"TOTAL GDP(trillion$)\")\n",
    "#changing the scale of x-axis to 5 years range.\n",
    "plt.xticks(range(min(years), max(years)+1, 5))\n",
    "plt.plot(years, total_gdp_per_yr/(10**12))\n",
    "plt.plot(years, us_gdp_per_yr/(10**12))\n",
    "plt.plot(years, china_gdp_per_yr/(10**12))\n",
    "plt.plot(years, india_gdp_per_yr/(10**12))\n",
    "plt.legend(['Total', 'US', 'China', 'India'])\n"
   ]
  },
  {
   "cell_type": "code",
   "execution_count": 17,
   "id": "dca0b7a6",
   "metadata": {
    "execution": {
     "iopub.execute_input": "2022-02-01T17:00:09.128798Z",
     "iopub.status.busy": "2022-02-01T17:00:09.125273Z",
     "iopub.status.idle": "2022-02-01T17:00:09.138064Z",
     "shell.execute_reply": "2022-02-01T17:00:09.138554Z",
     "shell.execute_reply.started": "2022-02-01T16:39:31.054630Z"
    },
    "papermill": {
     "duration": 0.04515,
     "end_time": "2022-02-01T17:00:09.138723",
     "exception": false,
     "start_time": "2022-02-01T17:00:09.093573",
     "status": "completed"
    },
    "tags": []
   },
   "outputs": [
    {
     "data": {
      "text/plain": [
       "9959     2.093660e+13\n",
       "9960     1.472273e+13\n",
       "9962     2.707744e+12\n",
       "9963     2.622984e+12\n",
       "9964     2.603004e+12\n",
       "             ...     \n",
       "10114    1.844510e+09\n",
       "10116    1.763696e+09\n",
       "10123    1.124938e+09\n",
       "10125    9.274519e+08\n",
       "10128    8.096815e+08\n",
       "Name: gdp, Length: 94, dtype: float64"
      ]
     },
     "execution_count": 17,
     "metadata": {},
     "output_type": "execute_result"
    }
   ],
   "source": [
    "gdps_in_2020 = filtered_all_gdp_df.where(filtered_all_gdp_df.year==2020).dropna()['gdp']\n",
    "\n",
    "gdps_in_2020"
   ]
  },
  {
   "cell_type": "code",
   "execution_count": 18,
   "id": "25e6f81c",
   "metadata": {
    "execution": {
     "iopub.execute_input": "2022-02-01T17:00:09.203643Z",
     "iopub.status.busy": "2022-02-01T17:00:09.201613Z",
     "iopub.status.idle": "2022-02-01T17:00:10.366533Z",
     "shell.execute_reply": "2022-02-01T17:00:10.366971Z",
     "shell.execute_reply.started": "2022-02-01T16:58:53.242717Z"
    },
    "papermill": {
     "duration": 1.197272,
     "end_time": "2022-02-01T17:00:10.367158",
     "exception": false,
     "start_time": "2022-02-01T17:00:09.169886",
     "status": "completed"
    },
    "tags": []
   },
   "outputs": [
    {
     "name": "stderr",
     "output_type": "stream",
     "text": [
      "/opt/conda/lib/python3.7/site-packages/seaborn/distributions.py:2619: FutureWarning: `distplot` is a deprecated function and will be removed in a future version. Please adapt your code to use either `displot` (a figure-level function with similar flexibility) or `histplot` (an axes-level function for histograms).\n",
      "  warnings.warn(msg, FutureWarning)\n"
     ]
    },
    {
     "data": {
      "text/plain": [
       "<matplotlib.lines.Line2D at 0x7f603b0fd310>"
      ]
     },
     "execution_count": 18,
     "metadata": {},
     "output_type": "execute_result"
    },
    {
     "data": {
      "image/png": "[encoded data removed]",
      "text/plain": [
       "<Figure size 720x360 with 1 Axes>"
      ]
     },
     "metadata": {
      "needs_background": "light"
     },
     "output_type": "display_data"
    }
   ],
   "source": [
    "import seaborn as sns\n",
    "plt.figure(figsize=(10,5))\n",
    "sns.distplot(gdps_in_2020, kde=True)\n",
    "plt.axvline(x=gdps_in_2020.mean(), color = \"red\")\n",
    "plt.axvline(x=gdps_in_2020.median(), color = \"black\")"
   ]
  }
 ],
 "metadata": {
  "kernelspec": {
   "display_name": "Python 3",
   "language": "python",
   "name": "python3"
  },
  "language_info": {
   "codemirror_mode": {
    "name": "ipython",
    "version": 3
   },
   "file_extension": ".py",
   "mimetype": "text/x-python",
   "name": "python",
   "nbconvert_exporter": "python",
   "pygments_lexer": "ipython3",
   "version": "3.7.12"
  },
  "papermill": {
   "default_parameters": {},
   "duration": 14.918322,
   "end_time": "2022-02-01T17:00:11.109547",
   "environment_variables": {},
   "exception": null,
   "input_path": "__notebook__.ipynb",
   "output_path": "__notebook__.ipynb",
   "parameters": {},
   "start_time": "2022-02-01T16:59:56.191225",
   "version": "2.3.3"
  }
 },
 "nbformat": 4,
 "nbformat_minor": 5
}
