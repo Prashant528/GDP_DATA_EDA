{
 "cells": [
  {
   "cell_type": "code",
   "execution_count": 1,
   "id": "26a5dc5d",
   "metadata": {
    "_cell_guid": "b1076dfc-b9ad-4769-8c92-a6c4dae69d19",
    "_uuid": "8f2839f25d086af736a60e9eeb907d3b93b6e0e5",
    "execution": {
     "iopub.execute_input": "2022-01-25T17:55:05.655608Z",
     "iopub.status.busy": "2022-01-25T17:55:05.654929Z",
     "iopub.status.idle": "2022-01-25T17:55:05.673459Z",
     "shell.execute_reply": "2022-01-25T17:55:05.672521Z",
     "shell.execute_reply.started": "2022-01-25T17:13:18.603057Z"
    },
    "papermill": {
     "duration": 0.050443,
     "end_time": "2022-01-25T17:55:05.673704",
     "exception": false,
     "start_time": "2022-01-25T17:55:05.623261",
     "status": "completed"
    },
    "tags": []
   },
   "outputs": [
    {
     "name": "stdout",
     "output_type": "stream",
     "text": [
      "/kaggle/input/gdp-of-all-countries19602020/gdp_1960_2020.csv\n"
     ]
    }
   ],
   "source": [
    "# This Python 3 environment comes with many helpful analytics libraries installed\n",
    "# It is defined by the kaggle/python Docker image: https://github.com/kaggle/docker-python\n",
    "# For example, here's several helpful packages to load\n",
    "\n",
    "import numpy as np # linear algebra\n",
    "import pandas as pd # data processing, CSV file I/O (e.g. pd.read_csv)\n",
    "\n",
    "# Input data files are available in the read-only \"../input/\" directory\n",
    "# For example, running this (by clicking run or pressing Shift+Enter) will list all files under the input directory\n",
    "\n",
    "import os\n",
    "for dirname, _, filenames in os.walk('/kaggle/input'):\n",
    "    for filename in filenames:\n",
    "        print(os.path.join(dirname, filename))\n",
    "\n",
    "# You can write up to 20GB to the current directory (/kaggle/working/) that gets preserved as output when you create a version using \"Save & Run All\" \n",
    "# You can also write temporary files to /kaggle/temp/, but they won't be saved outside of the current session"
   ]
  },
  {
   "cell_type": "markdown",
   "id": "6c47d1e3",
   "metadata": {
    "papermill": {
     "duration": 0.019832,
     "end_time": "2022-01-25T17:55:05.714985",
     "exception": false,
     "start_time": "2022-01-25T17:55:05.695153",
     "status": "completed"
    },
    "tags": []
   },
   "source": [
    " # 1. Reading the data"
   ]
  },
  {
   "cell_type": "code",
   "execution_count": 2,
   "id": "3c87921d",
   "metadata": {
    "execution": {
     "iopub.execute_input": "2022-01-25T17:55:05.757959Z",
     "iopub.status.busy": "2022-01-25T17:55:05.757284Z",
     "iopub.status.idle": "2022-01-25T17:55:05.816337Z",
     "shell.execute_reply": "2022-01-25T17:55:05.815708Z",
     "shell.execute_reply.started": "2022-01-25T17:13:18.644532Z"
    },
    "papermill": {
     "duration": 0.081441,
     "end_time": "2022-01-25T17:55:05.816478",
     "exception": false,
     "start_time": "2022-01-25T17:55:05.735037",
     "status": "completed"
    },
    "tags": []
   },
   "outputs": [
    {
     "data": {
      "text/html": [
       "<div>\n",
       "<style scoped>\n",
       "    .dataframe tbody tr th:only-of-type {\n",
       "        vertical-align: middle;\n",
       "    }\n",
       "\n",
       "    .dataframe tbody tr th {\n",
       "        vertical-align: top;\n",
       "    }\n",
       "\n",
       "    .dataframe thead th {\n",
       "        text-align: right;\n",
       "    }\n",
       "</style>\n",
       "<table border=\"1\" class=\"dataframe\">\n",
       "  <thead>\n",
       "    <tr style=\"text-align: right;\">\n",
       "      <th></th>\n",
       "      <th>year</th>\n",
       "      <th>rank</th>\n",
       "      <th>country</th>\n",
       "      <th>state</th>\n",
       "      <th>gdp</th>\n",
       "      <th>gdp_percent</th>\n",
       "    </tr>\n",
       "  </thead>\n",
       "  <tbody>\n",
       "    <tr>\n",
       "      <th>0</th>\n",
       "      <td>1960</td>\n",
       "      <td>1</td>\n",
       "      <td>the United States</td>\n",
       "      <td>America</td>\n",
       "      <td>543300000000</td>\n",
       "      <td>0.468483</td>\n",
       "    </tr>\n",
       "    <tr>\n",
       "      <th>1</th>\n",
       "      <td>1960</td>\n",
       "      <td>2</td>\n",
       "      <td>United Kingdom</td>\n",
       "      <td>Europe</td>\n",
       "      <td>73233967692</td>\n",
       "      <td>0.063149</td>\n",
       "    </tr>\n",
       "    <tr>\n",
       "      <th>2</th>\n",
       "      <td>1960</td>\n",
       "      <td>3</td>\n",
       "      <td>France</td>\n",
       "      <td>Europe</td>\n",
       "      <td>62225478000</td>\n",
       "      <td>0.053656</td>\n",
       "    </tr>\n",
       "    <tr>\n",
       "      <th>3</th>\n",
       "      <td>1960</td>\n",
       "      <td>4</td>\n",
       "      <td>China</td>\n",
       "      <td>Asia</td>\n",
       "      <td>59716467625</td>\n",
       "      <td>0.051493</td>\n",
       "    </tr>\n",
       "    <tr>\n",
       "      <th>4</th>\n",
       "      <td>1960</td>\n",
       "      <td>5</td>\n",
       "      <td>Japan</td>\n",
       "      <td>Asia</td>\n",
       "      <td>44307342950</td>\n",
       "      <td>0.038206</td>\n",
       "    </tr>\n",
       "    <tr>\n",
       "      <th>5</th>\n",
       "      <td>1960</td>\n",
       "      <td>6</td>\n",
       "      <td>Canada</td>\n",
       "      <td>America</td>\n",
       "      <td>40461721692</td>\n",
       "      <td>0.034890</td>\n",
       "    </tr>\n",
       "    <tr>\n",
       "      <th>6</th>\n",
       "      <td>1960</td>\n",
       "      <td>7</td>\n",
       "      <td>Italy</td>\n",
       "      <td>Europe</td>\n",
       "      <td>40385288344</td>\n",
       "      <td>0.034824</td>\n",
       "    </tr>\n",
       "    <tr>\n",
       "      <th>7</th>\n",
       "      <td>1960</td>\n",
       "      <td>8</td>\n",
       "      <td>India</td>\n",
       "      <td>Asia</td>\n",
       "      <td>37029883875</td>\n",
       "      <td>0.031931</td>\n",
       "    </tr>\n",
       "    <tr>\n",
       "      <th>8</th>\n",
       "      <td>1960</td>\n",
       "      <td>9</td>\n",
       "      <td>Australia</td>\n",
       "      <td>Oceania</td>\n",
       "      <td>18577668271</td>\n",
       "      <td>0.016019</td>\n",
       "    </tr>\n",
       "    <tr>\n",
       "      <th>9</th>\n",
       "      <td>1960</td>\n",
       "      <td>10</td>\n",
       "      <td>Sweden</td>\n",
       "      <td>Europe</td>\n",
       "      <td>15822585033</td>\n",
       "      <td>0.013644</td>\n",
       "    </tr>\n",
       "  </tbody>\n",
       "</table>\n",
       "</div>"
      ],
      "text/plain": [
       "   year  rank            country    state           gdp  gdp_percent\n",
       "0  1960     1  the United States  America  543300000000     0.468483\n",
       "1  1960     2     United Kingdom   Europe   73233967692     0.063149\n",
       "2  1960     3             France   Europe   62225478000     0.053656\n",
       "3  1960     4              China     Asia   59716467625     0.051493\n",
       "4  1960     5              Japan     Asia   44307342950     0.038206\n",
       "5  1960     6             Canada  America   40461721692     0.034890\n",
       "6  1960     7              Italy   Europe   40385288344     0.034824\n",
       "7  1960     8              India     Asia   37029883875     0.031931\n",
       "8  1960     9          Australia  Oceania   18577668271     0.016019\n",
       "9  1960    10             Sweden   Europe   15822585033     0.013644"
      ]
     },
     "execution_count": 2,
     "metadata": {},
     "output_type": "execute_result"
    }
   ],
   "source": [
    "all_gdp_df = pd.read_csv(\"/kaggle/input/gdp-of-all-countries19602020/gdp_1960_2020.csv\");\n",
    "all_gdp_df[:10]"
   ]
  },
  {
   "cell_type": "markdown",
   "id": "b9eed242",
   "metadata": {
    "papermill": {
     "duration": 0.020051,
     "end_time": "2022-01-25T17:55:05.857542",
     "exception": false,
     "start_time": "2022-01-25T17:55:05.837491",
     "status": "completed"
    },
    "tags": []
   },
   "source": [
    " # 2. **Checking the consistency of country over years.**"
   ]
  },
  {
   "cell_type": "code",
   "execution_count": 3,
   "id": "34341435",
   "metadata": {
    "execution": {
     "iopub.execute_input": "2022-01-25T17:55:05.906854Z",
     "iopub.status.busy": "2022-01-25T17:55:05.901511Z",
     "iopub.status.idle": "2022-01-25T17:55:05.917558Z",
     "shell.execute_reply": "2022-01-25T17:55:05.916851Z",
     "shell.execute_reply.started": "2022-01-25T17:13:18.702725Z"
    },
    "papermill": {
     "duration": 0.039706,
     "end_time": "2022-01-25T17:55:05.917702",
     "exception": false,
     "start_time": "2022-01-25T17:55:05.877996",
     "status": "completed"
    },
    "tags": []
   },
   "outputs": [
    {
     "name": "stdout",
     "output_type": "stream",
     "text": [
      "year\n",
      "1960    103\n",
      "1961    103\n",
      "1962    105\n",
      "1963    105\n",
      "1964    105\n",
      "       ... \n",
      "2016    205\n",
      "2017    204\n",
      "2018    204\n",
      "2019    199\n",
      "2020    175\n",
      "Name: gdp, Length: 61, dtype: int64\n",
      "103\n"
     ]
    }
   ],
   "source": [
    "count_in_each_year = pd.Series(all_gdp_df.groupby('year')['gdp'].count())\n",
    "print(count_in_each_year)\n",
    "# so the number of countries in each year is inconsistent.\n",
    "print(count_in_each_year.min())\n"
   ]
  },
  {
   "cell_type": "markdown",
   "id": "311e2105",
   "metadata": {
    "papermill": {
     "duration": 0.02049,
     "end_time": "2022-01-25T17:55:05.959019",
     "exception": false,
     "start_time": "2022-01-25T17:55:05.938529",
     "status": "completed"
    },
    "tags": []
   },
   "source": [
    "# Years with minimum number of countries."
   ]
  },
  {
   "cell_type": "code",
   "execution_count": 4,
   "id": "1fe5981a",
   "metadata": {
    "execution": {
     "iopub.execute_input": "2022-01-25T17:55:06.007139Z",
     "iopub.status.busy": "2022-01-25T17:55:06.003374Z",
     "iopub.status.idle": "2022-01-25T17:55:06.010765Z",
     "shell.execute_reply": "2022-01-25T17:55:06.010243Z",
     "shell.execute_reply.started": "2022-01-25T17:13:18.723460Z"
    },
    "papermill": {
     "duration": 0.031104,
     "end_time": "2022-01-25T17:55:06.010920",
     "exception": false,
     "start_time": "2022-01-25T17:55:05.979816",
     "status": "completed"
    },
    "tags": []
   },
   "outputs": [
    {
     "name": "stdout",
     "output_type": "stream",
     "text": [
      "year\n",
      "1960    103.0\n",
      "1961    103.0\n",
      "Name: gdp, dtype: float64\n"
     ]
    }
   ],
   "source": [
    "#where gives Nan in the places where the conditions don't match. So, we use dropna().\n",
    "print(count_in_each_year.where(count_in_each_year==103).dropna())"
   ]
  },
  {
   "cell_type": "markdown",
   "id": "44c547c9",
   "metadata": {
    "papermill": {
     "duration": 0.02077,
     "end_time": "2022-01-25T17:55:06.053377",
     "exception": false,
     "start_time": "2022-01-25T17:55:06.032607",
     "status": "completed"
    },
    "tags": []
   },
   "source": [
    "**Checking if these two years have same countries.**"
   ]
  },
  {
   "cell_type": "code",
   "execution_count": 5,
   "id": "d18bc227",
   "metadata": {
    "execution": {
     "iopub.execute_input": "2022-01-25T17:55:06.100602Z",
     "iopub.status.busy": "2022-01-25T17:55:06.099955Z",
     "iopub.status.idle": "2022-01-25T17:55:06.129679Z",
     "shell.execute_reply": "2022-01-25T17:55:06.130333Z",
     "shell.execute_reply.started": "2022-01-25T17:13:18.737952Z"
    },
    "papermill": {
     "duration": 0.054571,
     "end_time": "2022-01-25T17:55:06.130509",
     "exception": false,
     "start_time": "2022-01-25T17:55:06.075938",
     "status": "completed"
    },
    "tags": []
   },
   "outputs": [
    {
     "name": "stdout",
     "output_type": "stream",
     "text": [
      "103                   the United States\n",
      "104                      United Kingdom\n",
      "105                              France\n",
      "106                               Japan\n",
      "107                               China\n",
      "                     ...               \n",
      "201                            Botswana\n",
      "202                              Belize\n",
      "203    Saint Vincent and the Grenadines\n",
      "204               Saint Kitts and Nevis\n",
      "205                          Seychelles\n",
      "Name: country, Length: 103, dtype: object\n"
     ]
    }
   ],
   "source": [
    "filter1 = all_gdp_df['year']==1960\n",
    "nations_1960 = pd.Series(all_gdp_df.where(filter1).dropna()['country'])\n",
    "filter2 = all_gdp_df['year']==1961\n",
    "nations_1961 = pd.Series(all_gdp_df.where(filter2).dropna()['country'])\n",
    "print(nations_1961)\n",
    "#the new series for 1961 is being indexed starting from 103. Need to reset it."
   ]
  },
  {
   "cell_type": "markdown",
   "id": "2fc1379f",
   "metadata": {
    "papermill": {
     "duration": 0.021251,
     "end_time": "2022-01-25T17:55:06.174394",
     "exception": false,
     "start_time": "2022-01-25T17:55:06.153143",
     "status": "completed"
    },
    "tags": []
   },
   "source": [
    "**Check for similarity**"
   ]
  },
  {
   "cell_type": "code",
   "execution_count": 6,
   "id": "c3182cc0",
   "metadata": {
    "execution": {
     "iopub.execute_input": "2022-01-25T17:55:06.235555Z",
     "iopub.status.busy": "2022-01-25T17:55:06.234838Z",
     "iopub.status.idle": "2022-01-25T17:55:06.237450Z",
     "shell.execute_reply": "2022-01-25T17:55:06.237934Z",
     "shell.execute_reply.started": "2022-01-25T17:13:18.772815Z"
    },
    "papermill": {
     "duration": 0.041717,
     "end_time": "2022-01-25T17:55:06.238100",
     "exception": false,
     "start_time": "2022-01-25T17:55:06.196383",
     "status": "completed"
    },
    "tags": []
   },
   "outputs": [
    {
     "data": {
      "text/html": [
       "<div>\n",
       "<style scoped>\n",
       "    .dataframe tbody tr th:only-of-type {\n",
       "        vertical-align: middle;\n",
       "    }\n",
       "\n",
       "    .dataframe tbody tr th {\n",
       "        vertical-align: top;\n",
       "    }\n",
       "\n",
       "    .dataframe thead th {\n",
       "        text-align: right;\n",
       "    }\n",
       "</style>\n",
       "<table border=\"1\" class=\"dataframe\">\n",
       "  <thead>\n",
       "    <tr style=\"text-align: right;\">\n",
       "      <th></th>\n",
       "      <th>self</th>\n",
       "      <th>other</th>\n",
       "    </tr>\n",
       "  </thead>\n",
       "  <tbody>\n",
       "  </tbody>\n",
       "</table>\n",
       "</div>"
      ],
      "text/plain": [
       "Empty DataFrame\n",
       "Columns: [self, other]\n",
       "Index: []"
      ]
     },
     "execution_count": 6,
     "metadata": {},
     "output_type": "execute_result"
    }
   ],
   "source": [
    "#resetting the index of 1961 series.\n",
    "nations_1961 = nations_1961.reset_index(drop = True)\n",
    "nations_1960.compare(nations_1961)\n",
    "#need to sort the country names\n",
    "nations_1960_sorted = pd.Series(nations_1960.sort_values(ignore_index=True))\n",
    "nations_1961_sorted = pd.Series(nations_1961.sort_values(ignore_index=True))\n",
    "nations_1960_sorted.compare(nations_1961_sorted)\n",
    "#so the countries in 1960 and 1961 are all same. "
   ]
  },
  {
   "cell_type": "markdown",
   "id": "68066520",
   "metadata": {
    "papermill": {
     "duration": 0.021502,
     "end_time": "2022-01-25T17:55:06.281608",
     "exception": false,
     "start_time": "2022-01-25T17:55:06.260106",
     "status": "completed"
    },
    "tags": []
   },
   "source": [
    "**For data consistency, I'll try to take these 103 countries only in other years too.**"
   ]
  },
  {
   "cell_type": "code",
   "execution_count": 7,
   "id": "f5e1c622",
   "metadata": {
    "execution": {
     "iopub.execute_input": "2022-01-25T17:55:06.329053Z",
     "iopub.status.busy": "2022-01-25T17:55:06.328364Z",
     "iopub.status.idle": "2022-01-25T17:55:06.379858Z",
     "shell.execute_reply": "2022-01-25T17:55:06.379274Z",
     "shell.execute_reply.started": "2022-01-25T17:13:18.794144Z"
    },
    "papermill": {
     "duration": 0.076607,
     "end_time": "2022-01-25T17:55:06.380037",
     "exception": false,
     "start_time": "2022-01-25T17:55:06.303430",
     "status": "completed"
    },
    "tags": []
   },
   "outputs": [
    {
     "data": {
      "text/plain": [
       "year           206\n",
       "rank           206\n",
       "country        206\n",
       "state          206\n",
       "gdp            206\n",
       "gdp_percent    206\n",
       "dtype: int64"
      ]
     },
     "execution_count": 7,
     "metadata": {},
     "output_type": "execute_result"
    }
   ],
   "source": [
    "\n",
    "#checking merging (join) query for two years.\n",
    "#using astype(object) because where() upcasted the gdp to float representation(precision got lost).\n",
    "nations_1965 = pd.DataFrame(all_gdp_df.where(all_gdp_df.year==1980).astype('O').dropna()[\"country\"])\n",
    "nations_1960 = all_gdp_df.where(all_gdp_df.year==1960).astype('O').dropna()\n",
    "merged = pd.merge(nations_1965, nations_1960, on=['country'], how='inner')\n",
    "\n",
    "test_joined = nations_1960.join(nations_1965.set_index('country'), how='inner',lsuffix=\"_x\", on='country')\n",
    "test_filtered =  test_joined[['year', 'rank', 'country', 'state', 'gdp', 'gdp_percent']].copy()\n",
    "test_summed = nations_1960.append(test_filtered)\n",
    "test_summed.count()\n"
   ]
  },
  {
   "cell_type": "markdown",
   "id": "38882ff3",
   "metadata": {
    "papermill": {
     "duration": 0.021895,
     "end_time": "2022-01-25T17:55:06.424124",
     "exception": false,
     "start_time": "2022-01-25T17:55:06.402229",
     "status": "completed"
    },
    "tags": []
   },
   "source": [
    "**It turns out the number of common countries is even less than 103. So, Getting the common set of countries in all years.**"
   ]
  },
  {
   "cell_type": "code",
   "execution_count": 8,
   "id": "1ca5574f",
   "metadata": {
    "execution": {
     "iopub.execute_input": "2022-01-25T17:55:06.480481Z",
     "iopub.status.busy": "2022-01-25T17:55:06.479373Z",
     "iopub.status.idle": "2022-01-25T17:55:07.299720Z",
     "shell.execute_reply": "2022-01-25T17:55:07.300237Z",
     "shell.execute_reply.started": "2022-01-25T17:13:18.853402Z"
    },
    "papermill": {
     "duration": 0.853953,
     "end_time": "2022-01-25T17:55:07.300424",
     "exception": false,
     "start_time": "2022-01-25T17:55:06.446471",
     "status": "completed"
    },
    "tags": []
   },
   "outputs": [
    {
     "name": "stdout",
     "output_type": "stream",
     "text": [
      "count in year:  1960  =  103\n",
      "count in year:  1961  =  103\n",
      "count in year:  1962  =  103\n",
      "count in year:  1963  =  103\n",
      "count in year:  1964  =  103\n",
      "count in year:  1965  =  102\n",
      "count in year:  1966  =  102\n",
      "count in year:  1967  =  102\n",
      "count in year:  1968  =  102\n",
      "count in year:  1969  =  102\n",
      "count in year:  1970  =  102\n",
      "count in year:  1971  =  102\n",
      "count in year:  1972  =  102\n",
      "count in year:  1973  =  102\n",
      "count in year:  1974  =  102\n",
      "count in year:  1975  =  101\n",
      "count in year:  1976  =  101\n",
      "count in year:  1977  =  101\n",
      "count in year:  1978  =  101\n",
      "count in year:  1979  =  101\n",
      "count in year:  1980  =  101\n",
      "count in year:  1981  =  101\n",
      "count in year:  1982  =  100\n",
      "count in year:  1983  =  100\n",
      "count in year:  1984  =  100\n",
      "count in year:  1985  =  100\n",
      "count in year:  1986  =  100\n",
      "count in year:  1987  =  100\n",
      "count in year:  1988  =  100\n",
      "count in year:  1989  =  100\n",
      "count in year:  1990  =  100\n",
      "count in year:  1991  =  98\n",
      "count in year:  1992  =  98\n",
      "count in year:  1993  =  98\n",
      "count in year:  1994  =  98\n",
      "count in year:  1995  =  98\n",
      "count in year:  1996  =  98\n",
      "count in year:  1997  =  98\n",
      "count in year:  1998  =  98\n",
      "count in year:  1999  =  98\n",
      "count in year:  2000  =  98\n",
      "count in year:  2001  =  98\n",
      "count in year:  2002  =  98\n",
      "count in year:  2003  =  98\n",
      "count in year:  2004  =  98\n",
      "count in year:  2005  =  98\n",
      "count in year:  2006  =  98\n",
      "count in year:  2007  =  98\n",
      "count in year:  2008  =  97\n",
      "count in year:  2009  =  97\n",
      "count in year:  2010  =  97\n",
      "count in year:  2011  =  97\n",
      "count in year:  2012  =  97\n",
      "count in year:  2013  =  97\n",
      "count in year:  2014  =  97\n",
      "count in year:  2015  =  96\n",
      "count in year:  2016  =  96\n",
      "count in year:  2017  =  96\n",
      "count in year:  2018  =  96\n",
      "count in year:  2019  =  96\n",
      "count in year:  2020  =  94\n"
     ]
    }
   ],
   "source": [
    "filtered_countries = pd.DataFrame(all_gdp_df.where(all_gdp_df.year==1960).dropna()[\"country\"])\n",
    "#initializing empty df for storing all year's filtered dfs.\n",
    "common_countries = pd.DataFrame(columns=['country'])\n",
    "for year, count in count_in_each_year.items():\n",
    "    #get the dfs for each year\n",
    "    countries_in_year = pd.DataFrame(all_gdp_df.where(all_gdp_df.year==year).dropna()[\"country\"])\n",
    "    #deduplicating the countries in each year.\n",
    "    countries_in_year.drop_duplicates(subset=['country'], inplace=True)\n",
    "    #join the dfs with 1960 year by ''country''\n",
    "    right_suffix = '_'+ str(year)\n",
    "    joined = countries_in_year.join(filtered_countries.set_index('country'), rsuffix=right_suffix, on='country', how='inner')\n",
    "    #join returns columns of both left and right tables, so copying only the left columns.\n",
    "    filtered_countries =  joined[['country']].copy()\n",
    "    print('count in year: ', year, ' = ',filtered_countries['country'].count() )\n"
   ]
  },
  {
   "cell_type": "code",
   "execution_count": 9,
   "id": "4f4b2de3",
   "metadata": {
    "execution": {
     "iopub.execute_input": "2022-01-25T17:55:07.356648Z",
     "iopub.status.busy": "2022-01-25T17:55:07.355761Z",
     "iopub.status.idle": "2022-01-25T17:55:07.359850Z",
     "shell.execute_reply": "2022-01-25T17:55:07.359322Z",
     "shell.execute_reply.started": "2022-01-25T17:13:19.764789Z"
    },
    "papermill": {
     "duration": 0.035524,
     "end_time": "2022-01-25T17:55:07.360007",
     "exception": false,
     "start_time": "2022-01-25T17:55:07.324483",
     "status": "completed"
    },
    "tags": []
   },
   "outputs": [
    {
     "name": "stdout",
     "output_type": "stream",
     "text": [
      "country    94\n",
      "dtype: int64\n"
     ]
    }
   ],
   "source": [
    "print(filtered_countries.count())\n",
    "# gives 94 . so we have 94 countries which are available in all years!\n"
   ]
  },
  {
   "cell_type": "markdown",
   "id": "c7b9f081",
   "metadata": {
    "papermill": {
     "duration": 0.023599,
     "end_time": "2022-01-25T17:55:07.408096",
     "exception": false,
     "start_time": "2022-01-25T17:55:07.384497",
     "status": "completed"
    },
    "tags": []
   },
   "source": [
    "**Constructing a new dataframe using this list of countries and joining them with dfs of each country.**"
   ]
  },
  {
   "cell_type": "code",
   "execution_count": 10,
   "id": "1983fce3",
   "metadata": {
    "execution": {
     "iopub.execute_input": "2022-01-25T17:55:07.470898Z",
     "iopub.status.busy": "2022-01-25T17:55:07.467923Z",
     "iopub.status.idle": "2022-01-25T17:55:08.350774Z",
     "shell.execute_reply": "2022-01-25T17:55:08.351315Z",
     "shell.execute_reply.started": "2022-01-25T17:13:19.773187Z"
    },
    "papermill": {
     "duration": 0.919542,
     "end_time": "2022-01-25T17:55:08.351490",
     "exception": false,
     "start_time": "2022-01-25T17:55:07.431948",
     "status": "completed"
    },
    "tags": []
   },
   "outputs": [
    {
     "name": "stdout",
     "output_type": "stream",
     "text": [
      "count in year:  1960  =  1.0\n",
      "count in year:  1961  =  2.0\n",
      "count in year:  1962  =  3.0\n",
      "count in year:  1963  =  4.0\n",
      "count in year:  1964  =  5.0\n",
      "count in year:  1965  =  6.0\n",
      "count in year:  1966  =  7.0\n",
      "count in year:  1967  =  8.0\n",
      "count in year:  1968  =  9.0\n",
      "count in year:  1969  =  10.0\n",
      "count in year:  1970  =  11.0\n",
      "count in year:  1971  =  12.0\n",
      "count in year:  1972  =  13.0\n",
      "count in year:  1973  =  14.0\n",
      "count in year:  1974  =  15.0\n",
      "count in year:  1975  =  16.0\n",
      "count in year:  1976  =  17.0\n",
      "count in year:  1977  =  18.0\n",
      "count in year:  1978  =  19.0\n",
      "count in year:  1979  =  20.0\n",
      "count in year:  1980  =  21.0\n",
      "count in year:  1981  =  22.0\n",
      "count in year:  1982  =  23.0\n",
      "count in year:  1983  =  24.0\n",
      "count in year:  1984  =  25.0\n",
      "count in year:  1985  =  26.0\n",
      "count in year:  1986  =  27.0\n",
      "count in year:  1987  =  28.0\n",
      "count in year:  1988  =  29.0\n",
      "count in year:  1989  =  30.0\n",
      "count in year:  1990  =  31.0\n",
      "count in year:  1991  =  32.0\n",
      "count in year:  1992  =  33.0\n",
      "count in year:  1993  =  34.0\n",
      "count in year:  1994  =  35.0\n",
      "count in year:  1995  =  36.0\n",
      "count in year:  1996  =  37.0\n",
      "count in year:  1997  =  38.0\n",
      "count in year:  1998  =  39.0\n",
      "count in year:  1999  =  40.0\n",
      "count in year:  2000  =  41.0\n",
      "count in year:  2001  =  42.0\n",
      "count in year:  2002  =  43.0\n",
      "count in year:  2003  =  44.0\n",
      "count in year:  2004  =  45.0\n",
      "count in year:  2005  =  46.0\n",
      "count in year:  2006  =  47.0\n",
      "count in year:  2007  =  48.0\n",
      "count in year:  2008  =  49.0\n",
      "count in year:  2009  =  50.0\n",
      "count in year:  2010  =  51.0\n",
      "count in year:  2011  =  52.0\n",
      "count in year:  2012  =  53.0\n",
      "count in year:  2013  =  54.0\n",
      "count in year:  2014  =  55.0\n",
      "count in year:  2015  =  56.0\n",
      "count in year:  2016  =  57.0\n",
      "count in year:  2017  =  58.0\n",
      "count in year:  2018  =  59.0\n",
      "count in year:  2019  =  60.0\n",
      "count in year:  2020  =  61.0\n"
     ]
    }
   ],
   "source": [
    "#initializing empty df for storing all year's filtered dfs.\n",
    "filtered_all_gdp_df = pd.DataFrame(columns=['year', 'rank', 'country', 'state', 'gdp', 'gdp_percent'])\n",
    "for year, count in count_in_each_year.items():\n",
    "    #get the dfs for each year\n",
    "    df_for_year = all_gdp_df.where(all_gdp_df.year==year).dropna()\n",
    "    #deduplicating the countries in each year's df.\n",
    "    df_for_year.drop_duplicates(subset=['country'], inplace=True)\n",
    "    #join the dfs with filtered_countries year by ''country''\n",
    "    joined = df_for_year.join(filtered_countries.set_index('country'), rsuffix='_1960', on='country', how='inner')\n",
    "    #join returns columns of both left and right tables, so copying only the left columns.\n",
    "    filtered_df_for_year =  joined[['year', 'rank', 'country', 'state', 'gdp', 'gdp_percent']].copy()\n",
    "    #appending dfs of each year to our initial empty df.\n",
    "    filtered_all_gdp_df = filtered_all_gdp_df.append(filtered_df_for_year)\n",
    "    print('count in year: ', year, ' = ',filtered_all_gdp_df['year'].count()/94)\n",
    "\n",
    "    #AND FINALLY THE COUNTRIES IN EACH YEAR ARE CONSISTENT."
   ]
  },
  {
   "cell_type": "code",
   "execution_count": 11,
   "id": "2297357a",
   "metadata": {
    "execution": {
     "iopub.execute_input": "2022-01-25T17:55:08.411269Z",
     "iopub.status.busy": "2022-01-25T17:55:08.410608Z",
     "iopub.status.idle": "2022-01-25T17:55:08.429630Z",
     "shell.execute_reply": "2022-01-25T17:55:08.429102Z",
     "shell.execute_reply.started": "2022-01-25T17:13:20.772259Z"
    },
    "papermill": {
     "duration": 0.051406,
     "end_time": "2022-01-25T17:55:08.429769",
     "exception": false,
     "start_time": "2022-01-25T17:55:08.378363",
     "status": "completed"
    },
    "tags": []
   },
   "outputs": [
    {
     "data": {
      "text/html": [
       "<div>\n",
       "<style scoped>\n",
       "    .dataframe tbody tr th:only-of-type {\n",
       "        vertical-align: middle;\n",
       "    }\n",
       "\n",
       "    .dataframe tbody tr th {\n",
       "        vertical-align: top;\n",
       "    }\n",
       "\n",
       "    .dataframe thead th {\n",
       "        text-align: right;\n",
       "    }\n",
       "</style>\n",
       "<table border=\"1\" class=\"dataframe\">\n",
       "  <thead>\n",
       "    <tr style=\"text-align: right;\">\n",
       "      <th></th>\n",
       "      <th>year</th>\n",
       "      <th>rank</th>\n",
       "      <th>country</th>\n",
       "      <th>state</th>\n",
       "      <th>gdp</th>\n",
       "      <th>gdp_percent</th>\n",
       "    </tr>\n",
       "  </thead>\n",
       "  <tbody>\n",
       "  </tbody>\n",
       "</table>\n",
       "</div>"
      ],
      "text/plain": [
       "Empty DataFrame\n",
       "Columns: [year, rank, country, state, gdp, gdp_percent]\n",
       "Index: []"
      ]
     },
     "execution_count": 11,
     "metadata": {},
     "output_type": "execute_result"
    }
   ],
   "source": [
    "#just checking if Nepal is included in these 103 countries.\n",
    "filtered_all_gdp_df.where(nations_1960_sorted==\"Nepal\").dropna()\n",
    "#sadly we lost Nepal on the way. The data for Nepal is missing in some years."
   ]
  },
  {
   "cell_type": "markdown",
   "id": "ce4d5aeb",
   "metadata": {
    "papermill": {
     "duration": 0.02684,
     "end_time": "2022-01-25T17:55:08.483949",
     "exception": false,
     "start_time": "2022-01-25T17:55:08.457109",
     "status": "completed"
    },
    "tags": []
   },
   "source": [
    "# 3. Visualization"
   ]
  },
  {
   "cell_type": "markdown",
   "id": "eb8412ca",
   "metadata": {
    "papermill": {
     "duration": 0.026385,
     "end_time": "2022-01-25T17:55:08.537013",
     "exception": false,
     "start_time": "2022-01-25T17:55:08.510628",
     "status": "completed"
    },
    "tags": []
   },
   "source": [
    "**A. Total GDP of all countries over the years**"
   ]
  },
  {
   "cell_type": "code",
   "execution_count": 12,
   "id": "97d2e55a",
   "metadata": {
    "execution": {
     "iopub.execute_input": "2022-01-25T17:55:08.600232Z",
     "iopub.status.busy": "2022-01-25T17:55:08.597946Z",
     "iopub.status.idle": "2022-01-25T17:55:08.891854Z",
     "shell.execute_reply": "2022-01-25T17:55:08.892363Z",
     "shell.execute_reply.started": "2022-01-25T17:13:20.796279Z"
    },
    "papermill": {
     "duration": 0.329319,
     "end_time": "2022-01-25T17:55:08.892534",
     "exception": false,
     "start_time": "2022-01-25T17:55:08.563215",
     "status": "completed"
    },
    "tags": []
   },
   "outputs": [
    {
     "data": {
      "text/plain": [
       "[<matplotlib.lines.Line2D at 0x7fa91c48dd10>]"
      ]
     },
     "execution_count": 12,
     "metadata": {},
     "output_type": "execute_result"
    },
    {
     "data": {
      "image/png": "[encoded data removed]",
      "text/plain": [
       "<Figure size 1080x360 with 1 Axes>"
      ]
     },
     "metadata": {
      "needs_background": "light"
     },
     "output_type": "display_data"
    }
   ],
   "source": [
    "from matplotlib import pyplot as plt\n",
    "\n",
    "years = pd.Series(count_in_each_year.index)\n",
    "total_gdp_per_yr = pd.Series(filtered_all_gdp_df.groupby('year')['gdp'].sum())\n",
    "plt.figure(figsize=(15,5))\n",
    "plt.title(\"Total GDP of all countries over the years\")\n",
    "plt.xlabel(\"YEARS\")\n",
    "plt.ylabel(\"TOTAL GDP\")\n",
    "#changing the scale of x-axis to 5 years range.\n",
    "plt.xticks(range(min(years), max(years)+1, 5))\n",
    "plt.plot(years, total_gdp_per_yr)"
   ]
  },
  {
   "cell_type": "markdown",
   "id": "2fac20a4",
   "metadata": {
    "papermill": {
     "duration": 0.027868,
     "end_time": "2022-01-25T17:55:08.948583",
     "exception": false,
     "start_time": "2022-01-25T17:55:08.920715",
     "status": "completed"
    },
    "tags": []
   },
   "source": [
    "**B. Top ten countries in 2020**"
   ]
  },
  {
   "cell_type": "code",
   "execution_count": 13,
   "id": "70ee40b6",
   "metadata": {
    "execution": {
     "iopub.execute_input": "2022-01-25T17:55:09.012727Z",
     "iopub.status.busy": "2022-01-25T17:55:09.008291Z",
     "iopub.status.idle": "2022-01-25T17:55:09.377722Z",
     "shell.execute_reply": "2022-01-25T17:55:09.377202Z",
     "shell.execute_reply.started": "2022-01-25T17:31:00.870767Z"
    },
    "papermill": {
     "duration": 0.401088,
     "end_time": "2022-01-25T17:55:09.377885",
     "exception": false,
     "start_time": "2022-01-25T17:55:08.976797",
     "status": "completed"
    },
    "tags": []
   },
   "outputs": [
    {
     "data": {
      "text/plain": [
       "<BarContainer object of 10 artists>"
      ]
     },
     "execution_count": 13,
     "metadata": {},
     "output_type": "execute_result"
    },
    {
     "data": {
      "image/png": "[encoded data removed]",
      "text/plain": [
       "<Figure size 864x360 with 1 Axes>"
      ]
     },
     "metadata": {
      "needs_background": "light"
     },
     "output_type": "display_data"
    }
   ],
   "source": [
    "top_10_df = filtered_all_gdp_df.where(filtered_all_gdp_df.year==2020).dropna().head(10)\n",
    "#no need to sort as the dataframe is already sorted by rank.\n",
    "# print(top_10_df)\n",
    "#plotting bar plot\n",
    "top_10_country = top_10_df.loc[:, 'country']\n",
    "top_10_gdp = top_10_df.loc[:, 'gdp']\n",
    "plt.figure(figsize=(12,5))\n",
    "plt.title(\"GDP of top 10 countries in 2020\")\n",
    "plt.ylabel('GDP (trillion $)')\n",
    "plt.bar(top_10_country, top_10_gdp/(10**12), color ='maroon',width = 0.6)\n"
   ]
  },
  {
   "cell_type": "markdown",
   "id": "fabdbca7",
   "metadata": {
    "papermill": {
     "duration": 0.035996,
     "end_time": "2022-01-25T17:55:09.443807",
     "exception": false,
     "start_time": "2022-01-25T17:55:09.407811",
     "status": "completed"
    },
    "tags": []
   },
   "source": [
    "**C. The portion these 10 countries make up in this dataset (2020).**"
   ]
  },
  {
   "cell_type": "code",
   "execution_count": 14,
   "id": "d9c23aaf",
   "metadata": {
    "execution": {
     "iopub.execute_input": "2022-01-25T17:55:09.528981Z",
     "iopub.status.busy": "2022-01-25T17:55:09.528333Z",
     "iopub.status.idle": "2022-01-25T17:55:09.730933Z",
     "shell.execute_reply": "2022-01-25T17:55:09.731665Z",
     "shell.execute_reply.started": "2022-01-25T17:29:21.685662Z"
    },
    "papermill": {
     "duration": 0.252005,
     "end_time": "2022-01-25T17:55:09.731840",
     "exception": false,
     "start_time": "2022-01-25T17:55:09.479835",
     "status": "completed"
    },
    "tags": []
   },
   "outputs": [
    {
     "data": {
      "image/png": "[encoded data removed]",
      "text/plain": [
       "<Figure size 432x288 with 1 Axes>"
      ]
     },
     "metadata": {},
     "output_type": "display_data"
    }
   ],
   "source": [
    "plt.pie(top_10_gdp, labels = top_10_country, shadow=True)\n",
    "plt.title('Top 10 countries',  y=-0.15)\n",
    "plt.show() "
   ]
  },
  {
   "cell_type": "markdown",
   "id": "d17b5bb0",
   "metadata": {
    "papermill": {
     "duration": 0.035502,
     "end_time": "2022-01-25T17:55:09.823253",
     "exception": false,
     "start_time": "2022-01-25T17:55:09.787751",
     "status": "completed"
    },
    "tags": []
   },
   "source": [
    "**Comparing these top 10 with remaining nations.**"
   ]
  },
  {
   "cell_type": "code",
   "execution_count": 15,
   "id": "87b3c72f",
   "metadata": {
    "execution": {
     "iopub.execute_input": "2022-01-25T17:55:09.888233Z",
     "iopub.status.busy": "2022-01-25T17:55:09.887581Z",
     "iopub.status.idle": "2022-01-25T17:55:10.124400Z",
     "shell.execute_reply": "2022-01-25T17:55:10.125478Z",
     "shell.execute_reply.started": "2022-01-25T17:54:10.597636Z"
    },
    "papermill": {
     "duration": 0.271751,
     "end_time": "2022-01-25T17:55:10.125772",
     "exception": false,
     "start_time": "2022-01-25T17:55:09.854021",
     "status": "completed"
    },
    "tags": []
   },
   "outputs": [
    {
     "name": "stdout",
     "output_type": "stream",
     "text": [
      "[0.05, 0.02, 0, 0, 0, 0, 0, 0, 0, 0, 0.01]\n"
     ]
    },
    {
     "data": {
      "image/png": "[encoded data removed]",
      "text/plain": [
       "<Figure size 432x288 with 1 Axes>"
      ]
     },
     "metadata": {},
     "output_type": "display_data"
    }
   ],
   "source": [
    "remaining_nations_df = filtered_all_gdp_df.where(filtered_all_gdp_df.year==2020).dropna().tail(84)\n",
    "others_gdp = pd.Series(top_10_df.loc[:, 'gdp'].sum())\n",
    "#construct the array of values and labels for showing on pie-chart\n",
    "pie_gdps = pd.concat([top_10_gdp, others_gdp], ignore_index=True) \n",
    "pie_labels = pd.concat([top_10_country, pd.Series('Others')], ignore_index=True)\n",
    "#setting up an array for explode values\n",
    "#explode US and China a little\n",
    "myexplode = [0.05, 0.02]\n",
    "#don't explode rest of the top 10 countries\n",
    "n=8\n",
    "myexplode = myexplode + [0] * n\n",
    "#explode \"Others\" a bit more\n",
    "myexplode.append(0.01)\n",
    "print(myexplode)\n",
    "\n",
    "plt.pie(pie_gdps, labels = pie_labels, explode=myexplode, shadow=True)\n",
    "plt.title('[Top 10 countries] VS [Others] in 2020',  y=-0.15)\n",
    "plt.show() "
   ]
  },
  {
   "cell_type": "markdown",
   "id": "2fcced19",
   "metadata": {
    "papermill": {
     "duration": 0.03168,
     "end_time": "2022-01-25T17:55:10.215513",
     "exception": false,
     "start_time": "2022-01-25T17:55:10.183833",
     "status": "completed"
    },
    "tags": []
   },
   "source": [
    "****"
   ]
  }
 ],
 "metadata": {
  "kernelspec": {
   "display_name": "Python 3",
   "language": "python",
   "name": "python3"
  },
  "language_info": {
   "codemirror_mode": {
    "name": "ipython",
    "version": 3
   },
   "file_extension": ".py",
   "mimetype": "text/x-python",
   "name": "python",
   "nbconvert_exporter": "python",
   "pygments_lexer": "ipython3",
   "version": "3.7.12"
  },
  "papermill": {
   "default_parameters": {},
   "duration": 15.27412,
   "end_time": "2022-01-25T17:55:10.857388",
   "environment_variables": {},
   "exception": null,
   "input_path": "__notebook__.ipynb",
   "output_path": "__notebook__.ipynb",
   "parameters": {},
   "start_time": "2022-01-25T17:54:55.583268",
   "version": "2.3.3"
  }
 },
 "nbformat": 4,
 "nbformat_minor": 5
}
